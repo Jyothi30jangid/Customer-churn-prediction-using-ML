{
 "cells": [
  {
   "cell_type": "code",
   "execution_count": 1,
   "id": "e81f4414-52b8-4264-953e-9e2ca73b082c",
   "metadata": {},
   "outputs": [],
   "source": [
    "#We are given the dataset about bank information of around 10000 customers and also given if they have churned or not. \n",
    "#Our task is to build a ML model such that we can predict if a customer is going to churn or not. We will also perform EDA on \n",
    "#this dataset to inform the bank on what they could do to minimise the churn and build a sustainable business. \n",
    "#We are going to use LazyClassifier which has around 29 pre-trained models which will help us find out the best model on basis of accuracy and time taken."
   ]
  },
  {
   "cell_type": "code",
   "execution_count": 2,
   "id": "009c23f4-0694-4994-93e2-97f000c4d215",
   "metadata": {},
   "outputs": [],
   "source": [
    "#Importing Required Libraries"
   ]
  },
  {
   "cell_type": "code",
   "execution_count": 3,
   "id": "aeb60e1c",
   "metadata": {},
   "outputs": [
    {
     "data": {
      "text/plain": [
       "'C:\\\\Users\\\\Lenovo\\\\.matplotlib'"
      ]
     },
     "execution_count": 3,
     "metadata": {},
     "output_type": "execute_result"
    }
   ],
   "source": [
    "import matplotlib as mpl\n",
    "mpl.get_cachedir()\n",
    "w"
   ]
  },
  {
   "cell_type": "code",
   "execution_count": 4,
   "id": "cf81ac9f",
   "metadata": {},
   "outputs": [],
   "source": [
    "import matplotlib as mpl\n",
    "import shutil\n",
    "import os\n",
    "\n",
    "cache_dir = mpl.get_cachedir()\n",
    "shutil.rmtree(cache_dir)\n",
    "os.makedirs(cache_dir)"
   ]
  },
  {
   "cell_type": "code",
   "execution_count": 5,
   "id": "f89f15c4-058e-4e35-94b6-e971c2a517ad",
   "metadata": {},
   "outputs": [],
   "source": [
    "#LazyPredict is a Python library designed to quickly and easily benchmark a variety of machine learning models on a given dataset. \n",
    "#It helps in selecting the best-performing models by providing a streamlined way to train and evaluate multiple algorithms without\n",
    "#requiring extensive coding or parameter tuning. LazyPredict is particularly useful for exploratory data analysis and initial model selection\n",
    "#in the early stages of a machine learning project."
   ]
  },
  {
   "cell_type": "code",
   "execution_count": 6,
   "id": "beba2f99-c602-44e4-a0b3-7242405667da",
   "metadata": {},
   "outputs": [],
   "source": [
    "from IPython.display import clear_output\n",
    "clear_output()"
   ]
  },
  {
   "cell_type": "code",
   "execution_count": 7,
   "id": "9664e781-e007-4b3b-b994-2b27ace6cae4",
   "metadata": {},
   "outputs": [],
   "source": [
    "#pip install lazypredict\n"
   ]
  },
  {
   "cell_type": "code",
   "execution_count": 8,
   "id": "7767aebb-94a3-4f5e-a4ca-8a085e4ddb6f",
   "metadata": {},
   "outputs": [],
   "source": [
    "#Importing all essential libraries\n",
    "import numpy as np\n",
    "import pandas as pd\n",
    "import seaborn as sns\n",
    "import matplotlib.pyplot as plt\n",
    "import plotly.express as px\n",
    "import missingno as msno\n",
    "\n",
    "from sklearn.model_selection import train_test_split\n",
    "from sklearn.preprocessing import StandardScaler,LabelEncoder\n",
    "\n",
    "import lazypredict\n",
    "from lazypredict.Supervised import LazyClassifier\n",
    "\n",
    "import warnings\n",
    "warnings.filterwarnings('ignore')\n",
    "clear_output()"
   ]
  },
  {
   "cell_type": "code",
   "execution_count": 9,
   "id": "d511cdcc-ae0b-4871-bfec-a5acefc6ee4e",
   "metadata": {},
   "outputs": [
    {
     "data": {
      "text/html": [
       "        <script type=\"text/javascript\">\n",
       "        window.PlotlyConfig = {MathJaxConfig: 'local'};\n",
       "        if (window.MathJax && window.MathJax.Hub && window.MathJax.Hub.Config) {window.MathJax.Hub.Config({SVG: {font: \"STIX-Web\"}});}\n",
       "        if (typeof require !== 'undefined') {\n",
       "        require.undef(\"plotly\");\n",
       "        requirejs.config({\n",
       "            paths: {\n",
       "                'plotly': ['https://cdn.plot.ly/plotly-2.29.1.min']\n",
       "            }\n",
       "        });\n",
       "        require(['plotly'], function(Plotly) {\n",
       "            window._Plotly = Plotly;\n",
       "        });\n",
       "        }\n",
       "        </script>\n",
       "        "
      ]
     },
     "metadata": {},
     "output_type": "display_data"
    }
   ],
   "source": [
    "import plotly.offline as py\n",
    "py.init_notebook_mode(connected=True)"
   ]
  },
  {
   "cell_type": "code",
   "execution_count": 10,
   "id": "26fff62a-3bbc-41df-914e-fa9d364ece3e",
   "metadata": {},
   "outputs": [],
   "source": [
    "# Data Exploration :\n",
    "\n",
    "#Feature Description:\n",
    "\n",
    "#RowNumber: corresponds to the record (row) number and has no effect on the output.\n",
    "#CustomerId: contains random values and has no effect on customer leaving the bank.\n",
    "# Surname: the surname of a customer has no impact on their decision to leave the bank.\n",
    "# CreditScore: can have an effect on customer churn, since a customer with a higher credit score is less likely to leave the bank.\n",
    "# Geography: a customer’s location can affect their decision to leave the bank.\n",
    "# Gender: it’s interesting to explore whether gender plays a role in a customer leaving the bank.\n",
    "# Age: this is certainly relevant, since older customers are less likely to leave their bank than younger ones.\n",
    "# Tenure: refers to the number of years that the customer has been a client of the bank. Normally, older clients are more loyal and less likely to leave a bank.\n",
    "# Balance: also a very good indicator of customer churn, as people with a higher balance in their accounts are less likely to \n",
    "# leave the bank compared to those with lower balances.\n",
    "# NumOfProducts: refers to the number of products that a customer has purchased through the bank.\n",
    "# HasCrCard: denotes whether or not a customer has a credit card. This column is also relevant, since people with a credit card are less likely to leave the bank.\n",
    "# IsActiveMember: active customers are less likely to leave the bank.\n",
    "# EstimatedSalary: as with balance, people with lower salaries are more likely to leave the bank compared to those with higher salaries.\n",
    "# Exited: whether or not the customer left the bank. (0=No,1=Yes)"
   ]
  },
  {
   "cell_type": "code",
   "execution_count": 11,
   "id": "f39cbb70-d489-4ac3-b466-d2a38f2f6071",
   "metadata": {},
   "outputs": [
    {
     "name": "stdout",
     "output_type": "stream",
     "text": [
      "      RowNumber  CustomerId    Surname  CreditScore Geography  Gender  Age  \\\n",
      "0             1    15634602   Hargrave          619    France  Female   42   \n",
      "1             2    15647311       Hill          608     Spain  Female   41   \n",
      "2             3    15619304       Onio          502    France  Female   42   \n",
      "3             4    15701354       Boni          699    France  Female   39   \n",
      "4             5    15737888   Mitchell          850     Spain  Female   43   \n",
      "...         ...         ...        ...          ...       ...     ...  ...   \n",
      "9995       9996    15606229   Obijiaku          771    France    Male   39   \n",
      "9996       9997    15569892  Johnstone          516    France    Male   35   \n",
      "9997       9998    15584532        Liu          709    France  Female   36   \n",
      "9998       9999    15682355  Sabbatini          772   Germany    Male   42   \n",
      "9999      10000    15628319     Walker          792    France  Female   28   \n",
      "\n",
      "      Tenure   Balance  NumOfProducts  HasCrCard  IsActiveMember  \\\n",
      "0          2      0.00              1          1               1   \n",
      "1          1  83807.86              1          0               1   \n",
      "2          8 159660.80              3          1               0   \n",
      "3          1      0.00              2          0               0   \n",
      "4          2 125510.82              1          1               1   \n",
      "...      ...       ...            ...        ...             ...   \n",
      "9995       5      0.00              2          1               0   \n",
      "9996      10  57369.61              1          1               1   \n",
      "9997       7      0.00              1          0               1   \n",
      "9998       3  75075.31              2          1               0   \n",
      "9999       4 130142.79              1          1               0   \n",
      "\n",
      "      EstimatedSalary  Exited  \n",
      "0           101348.88       1  \n",
      "1           112542.58       0  \n",
      "2           113931.57       1  \n",
      "3            93826.63       0  \n",
      "4            79084.10       0  \n",
      "...               ...     ...  \n",
      "9995         96270.64       0  \n",
      "9996        101699.77       0  \n",
      "9997         42085.58       1  \n",
      "9998         92888.52       1  \n",
      "9999         38190.78       0  \n",
      "\n",
      "[10000 rows x 14 columns]\n"
     ]
    }
   ],
   "source": [
    "data = pd.read_csv(\"bank churn.csv\")\n",
    "print(data)\n"
   ]
  },
  {
   "cell_type": "code",
   "execution_count": 12,
   "id": "89f14dd4-6daf-482c-b721-331b0bfced90",
   "metadata": {},
   "outputs": [
    {
     "data": {
      "text/html": [
       "<div>\n",
       "<style scoped>\n",
       "    .dataframe tbody tr th:only-of-type {\n",
       "        vertical-align: middle;\n",
       "    }\n",
       "\n",
       "    .dataframe tbody tr th {\n",
       "        vertical-align: top;\n",
       "    }\n",
       "\n",
       "    .dataframe thead th {\n",
       "        text-align: right;\n",
       "    }\n",
       "</style>\n",
       "<table border=\"1\" class=\"dataframe\">\n",
       "  <thead>\n",
       "    <tr style=\"text-align: right;\">\n",
       "      <th></th>\n",
       "      <th>RowNumber</th>\n",
       "      <th>CustomerId</th>\n",
       "      <th>Surname</th>\n",
       "      <th>CreditScore</th>\n",
       "      <th>Geography</th>\n",
       "      <th>Gender</th>\n",
       "      <th>Age</th>\n",
       "      <th>Tenure</th>\n",
       "      <th>Balance</th>\n",
       "      <th>NumOfProducts</th>\n",
       "      <th>HasCrCard</th>\n",
       "      <th>IsActiveMember</th>\n",
       "      <th>EstimatedSalary</th>\n",
       "      <th>Exited</th>\n",
       "    </tr>\n",
       "  </thead>\n",
       "  <tbody>\n",
       "    <tr>\n",
       "      <th>0</th>\n",
       "      <td>1</td>\n",
       "      <td>15634602</td>\n",
       "      <td>Hargrave</td>\n",
       "      <td>619</td>\n",
       "      <td>France</td>\n",
       "      <td>Female</td>\n",
       "      <td>42</td>\n",
       "      <td>2</td>\n",
       "      <td>0.00</td>\n",
       "      <td>1</td>\n",
       "      <td>1</td>\n",
       "      <td>1</td>\n",
       "      <td>101348.88</td>\n",
       "      <td>1</td>\n",
       "    </tr>\n",
       "    <tr>\n",
       "      <th>1</th>\n",
       "      <td>2</td>\n",
       "      <td>15647311</td>\n",
       "      <td>Hill</td>\n",
       "      <td>608</td>\n",
       "      <td>Spain</td>\n",
       "      <td>Female</td>\n",
       "      <td>41</td>\n",
       "      <td>1</td>\n",
       "      <td>83807.86</td>\n",
       "      <td>1</td>\n",
       "      <td>0</td>\n",
       "      <td>1</td>\n",
       "      <td>112542.58</td>\n",
       "      <td>0</td>\n",
       "    </tr>\n",
       "    <tr>\n",
       "      <th>2</th>\n",
       "      <td>3</td>\n",
       "      <td>15619304</td>\n",
       "      <td>Onio</td>\n",
       "      <td>502</td>\n",
       "      <td>France</td>\n",
       "      <td>Female</td>\n",
       "      <td>42</td>\n",
       "      <td>8</td>\n",
       "      <td>159660.80</td>\n",
       "      <td>3</td>\n",
       "      <td>1</td>\n",
       "      <td>0</td>\n",
       "      <td>113931.57</td>\n",
       "      <td>1</td>\n",
       "    </tr>\n",
       "    <tr>\n",
       "      <th>3</th>\n",
       "      <td>4</td>\n",
       "      <td>15701354</td>\n",
       "      <td>Boni</td>\n",
       "      <td>699</td>\n",
       "      <td>France</td>\n",
       "      <td>Female</td>\n",
       "      <td>39</td>\n",
       "      <td>1</td>\n",
       "      <td>0.00</td>\n",
       "      <td>2</td>\n",
       "      <td>0</td>\n",
       "      <td>0</td>\n",
       "      <td>93826.63</td>\n",
       "      <td>0</td>\n",
       "    </tr>\n",
       "    <tr>\n",
       "      <th>4</th>\n",
       "      <td>5</td>\n",
       "      <td>15737888</td>\n",
       "      <td>Mitchell</td>\n",
       "      <td>850</td>\n",
       "      <td>Spain</td>\n",
       "      <td>Female</td>\n",
       "      <td>43</td>\n",
       "      <td>2</td>\n",
       "      <td>125510.82</td>\n",
       "      <td>1</td>\n",
       "      <td>1</td>\n",
       "      <td>1</td>\n",
       "      <td>79084.10</td>\n",
       "      <td>0</td>\n",
       "    </tr>\n",
       "  </tbody>\n",
       "</table>\n",
       "</div>"
      ],
      "text/plain": [
       "   RowNumber  CustomerId   Surname  CreditScore Geography  Gender  Age  \\\n",
       "0          1    15634602  Hargrave          619    France  Female   42   \n",
       "1          2    15647311      Hill          608     Spain  Female   41   \n",
       "2          3    15619304      Onio          502    France  Female   42   \n",
       "3          4    15701354      Boni          699    France  Female   39   \n",
       "4          5    15737888  Mitchell          850     Spain  Female   43   \n",
       "\n",
       "   Tenure   Balance  NumOfProducts  HasCrCard  IsActiveMember  \\\n",
       "0       2      0.00              1          1               1   \n",
       "1       1  83807.86              1          0               1   \n",
       "2       8 159660.80              3          1               0   \n",
       "3       1      0.00              2          0               0   \n",
       "4       2 125510.82              1          1               1   \n",
       "\n",
       "   EstimatedSalary  Exited  \n",
       "0        101348.88       1  \n",
       "1        112542.58       0  \n",
       "2        113931.57       1  \n",
       "3         93826.63       0  \n",
       "4         79084.10       0  "
      ]
     },
     "execution_count": 12,
     "metadata": {},
     "output_type": "execute_result"
    }
   ],
   "source": [
    "data.head()"
   ]
  },
  {
   "cell_type": "code",
   "execution_count": 13,
   "id": "63a94ff1-4f1e-40be-bf7e-0f018b7615e5",
   "metadata": {},
   "outputs": [
    {
     "data": {
      "text/plain": [
       "(10000, 14)"
      ]
     },
     "execution_count": 13,
     "metadata": {},
     "output_type": "execute_result"
    }
   ],
   "source": [
    "data.shape # tells shape to data set"
   ]
  },
  {
   "cell_type": "code",
   "execution_count": 14,
   "id": "5730f369-3589-4fa2-a1cd-6b85d736f396",
   "metadata": {},
   "outputs": [
    {
     "data": {
      "text/plain": [
       "RowNumber            int64\n",
       "CustomerId           int64\n",
       "Surname             object\n",
       "CreditScore          int64\n",
       "Geography           object\n",
       "Gender              object\n",
       "Age                  int64\n",
       "Tenure               int64\n",
       "Balance            float64\n",
       "NumOfProducts        int64\n",
       "HasCrCard            int64\n",
       "IsActiveMember       int64\n",
       "EstimatedSalary    float64\n",
       "Exited               int64\n",
       "dtype: object"
      ]
     },
     "execution_count": 14,
     "metadata": {},
     "output_type": "execute_result"
    }
   ],
   "source": [
    "data.dtypes #find the data types"
   ]
  },
  {
   "cell_type": "code",
   "execution_count": 15,
   "id": "023a5dc7-0059-4bf1-a697-a257476f3c0e",
   "metadata": {},
   "outputs": [
    {
     "data": {
      "text/html": [
       "<div>\n",
       "<style scoped>\n",
       "    .dataframe tbody tr th:only-of-type {\n",
       "        vertical-align: middle;\n",
       "    }\n",
       "\n",
       "    .dataframe tbody tr th {\n",
       "        vertical-align: top;\n",
       "    }\n",
       "\n",
       "    .dataframe thead th {\n",
       "        text-align: right;\n",
       "    }\n",
       "</style>\n",
       "<table border=\"1\" class=\"dataframe\">\n",
       "  <thead>\n",
       "    <tr style=\"text-align: right;\">\n",
       "      <th></th>\n",
       "      <th>RowNumber</th>\n",
       "      <th>CustomerId</th>\n",
       "      <th>CreditScore</th>\n",
       "      <th>Age</th>\n",
       "      <th>Tenure</th>\n",
       "      <th>Balance</th>\n",
       "      <th>NumOfProducts</th>\n",
       "      <th>HasCrCard</th>\n",
       "      <th>IsActiveMember</th>\n",
       "      <th>EstimatedSalary</th>\n",
       "      <th>Exited</th>\n",
       "    </tr>\n",
       "  </thead>\n",
       "  <tbody>\n",
       "    <tr>\n",
       "      <th>count</th>\n",
       "      <td>10000.00</td>\n",
       "      <td>10000.00</td>\n",
       "      <td>10000.00</td>\n",
       "      <td>10000.00</td>\n",
       "      <td>10000.00</td>\n",
       "      <td>10000.00</td>\n",
       "      <td>10000.00</td>\n",
       "      <td>10000.00</td>\n",
       "      <td>10000.00</td>\n",
       "      <td>10000.00</td>\n",
       "      <td>10000.00</td>\n",
       "    </tr>\n",
       "    <tr>\n",
       "      <th>mean</th>\n",
       "      <td>5000.50</td>\n",
       "      <td>15690940.57</td>\n",
       "      <td>650.53</td>\n",
       "      <td>38.92</td>\n",
       "      <td>5.01</td>\n",
       "      <td>76485.89</td>\n",
       "      <td>1.53</td>\n",
       "      <td>0.71</td>\n",
       "      <td>0.52</td>\n",
       "      <td>100090.24</td>\n",
       "      <td>0.20</td>\n",
       "    </tr>\n",
       "    <tr>\n",
       "      <th>std</th>\n",
       "      <td>2886.90</td>\n",
       "      <td>71936.19</td>\n",
       "      <td>96.65</td>\n",
       "      <td>10.49</td>\n",
       "      <td>2.89</td>\n",
       "      <td>62397.41</td>\n",
       "      <td>0.58</td>\n",
       "      <td>0.46</td>\n",
       "      <td>0.50</td>\n",
       "      <td>57510.49</td>\n",
       "      <td>0.40</td>\n",
       "    </tr>\n",
       "    <tr>\n",
       "      <th>min</th>\n",
       "      <td>1.00</td>\n",
       "      <td>15565701.00</td>\n",
       "      <td>350.00</td>\n",
       "      <td>18.00</td>\n",
       "      <td>0.00</td>\n",
       "      <td>0.00</td>\n",
       "      <td>1.00</td>\n",
       "      <td>0.00</td>\n",
       "      <td>0.00</td>\n",
       "      <td>11.58</td>\n",
       "      <td>0.00</td>\n",
       "    </tr>\n",
       "    <tr>\n",
       "      <th>25%</th>\n",
       "      <td>2500.75</td>\n",
       "      <td>15628528.25</td>\n",
       "      <td>584.00</td>\n",
       "      <td>32.00</td>\n",
       "      <td>3.00</td>\n",
       "      <td>0.00</td>\n",
       "      <td>1.00</td>\n",
       "      <td>0.00</td>\n",
       "      <td>0.00</td>\n",
       "      <td>51002.11</td>\n",
       "      <td>0.00</td>\n",
       "    </tr>\n",
       "    <tr>\n",
       "      <th>50%</th>\n",
       "      <td>5000.50</td>\n",
       "      <td>15690738.00</td>\n",
       "      <td>652.00</td>\n",
       "      <td>37.00</td>\n",
       "      <td>5.00</td>\n",
       "      <td>97198.54</td>\n",
       "      <td>1.00</td>\n",
       "      <td>1.00</td>\n",
       "      <td>1.00</td>\n",
       "      <td>100193.91</td>\n",
       "      <td>0.00</td>\n",
       "    </tr>\n",
       "    <tr>\n",
       "      <th>75%</th>\n",
       "      <td>7500.25</td>\n",
       "      <td>15753233.75</td>\n",
       "      <td>718.00</td>\n",
       "      <td>44.00</td>\n",
       "      <td>7.00</td>\n",
       "      <td>127644.24</td>\n",
       "      <td>2.00</td>\n",
       "      <td>1.00</td>\n",
       "      <td>1.00</td>\n",
       "      <td>149388.25</td>\n",
       "      <td>0.00</td>\n",
       "    </tr>\n",
       "    <tr>\n",
       "      <th>max</th>\n",
       "      <td>10000.00</td>\n",
       "      <td>15815690.00</td>\n",
       "      <td>850.00</td>\n",
       "      <td>92.00</td>\n",
       "      <td>10.00</td>\n",
       "      <td>250898.09</td>\n",
       "      <td>4.00</td>\n",
       "      <td>1.00</td>\n",
       "      <td>1.00</td>\n",
       "      <td>199992.48</td>\n",
       "      <td>1.00</td>\n",
       "    </tr>\n",
       "  </tbody>\n",
       "</table>\n",
       "</div>"
      ],
      "text/plain": [
       "       RowNumber  CustomerId  CreditScore      Age   Tenure   Balance  \\\n",
       "count   10000.00    10000.00     10000.00 10000.00 10000.00  10000.00   \n",
       "mean     5000.50 15690940.57       650.53    38.92     5.01  76485.89   \n",
       "std      2886.90    71936.19        96.65    10.49     2.89  62397.41   \n",
       "min         1.00 15565701.00       350.00    18.00     0.00      0.00   \n",
       "25%      2500.75 15628528.25       584.00    32.00     3.00      0.00   \n",
       "50%      5000.50 15690738.00       652.00    37.00     5.00  97198.54   \n",
       "75%      7500.25 15753233.75       718.00    44.00     7.00 127644.24   \n",
       "max     10000.00 15815690.00       850.00    92.00    10.00 250898.09   \n",
       "\n",
       "       NumOfProducts  HasCrCard  IsActiveMember  EstimatedSalary   Exited  \n",
       "count       10000.00   10000.00        10000.00         10000.00 10000.00  \n",
       "mean            1.53       0.71            0.52        100090.24     0.20  \n",
       "std             0.58       0.46            0.50         57510.49     0.40  \n",
       "min             1.00       0.00            0.00            11.58     0.00  \n",
       "25%             1.00       0.00            0.00         51002.11     0.00  \n",
       "50%             1.00       1.00            1.00        100193.91     0.00  \n",
       "75%             2.00       1.00            1.00        149388.25     0.00  \n",
       "max             4.00       1.00            1.00        199992.48     1.00  "
      ]
     },
     "execution_count": 15,
     "metadata": {},
     "output_type": "execute_result"
    }
   ],
   "source": [
    "data.describe() #returns description of the data in the DataFrame"
   ]
  },
  {
   "cell_type": "code",
   "execution_count": 16,
   "id": "d0d86c87-8478-40fd-98d0-77cfdcdc4089",
   "metadata": {},
   "outputs": [
    {
     "name": "stdout",
     "output_type": "stream",
     "text": [
      "<class 'pandas.core.frame.DataFrame'>\n",
      "RangeIndex: 10000 entries, 0 to 9999\n",
      "Data columns (total 14 columns):\n",
      " #   Column           Non-Null Count  Dtype  \n",
      "---  ------           --------------  -----  \n",
      " 0   RowNumber        10000 non-null  int64  \n",
      " 1   CustomerId       10000 non-null  int64  \n",
      " 2   Surname          10000 non-null  object \n",
      " 3   CreditScore      10000 non-null  int64  \n",
      " 4   Geography        10000 non-null  object \n",
      " 5   Gender           10000 non-null  object \n",
      " 6   Age              10000 non-null  int64  \n",
      " 7   Tenure           10000 non-null  int64  \n",
      " 8   Balance          10000 non-null  float64\n",
      " 9   NumOfProducts    10000 non-null  int64  \n",
      " 10  HasCrCard        10000 non-null  int64  \n",
      " 11  IsActiveMember   10000 non-null  int64  \n",
      " 12  EstimatedSalary  10000 non-null  float64\n",
      " 13  Exited           10000 non-null  int64  \n",
      "dtypes: float64(2), int64(9), object(3)\n",
      "memory usage: 1.1+ MB\n"
     ]
    }
   ],
   "source": [
    "data.info() #prints information about the DataFrame"
   ]
  },
  {
   "cell_type": "code",
   "execution_count": 17,
   "id": "b88d7aca-1c08-433e-acc5-db9065510d27",
   "metadata": {},
   "outputs": [
    {
     "data": {
      "text/plain": [
       "RowNumber          10000\n",
       "CustomerId         10000\n",
       "Surname             2932\n",
       "CreditScore          460\n",
       "Geography              3\n",
       "Gender                 2\n",
       "Age                   70\n",
       "Tenure                11\n",
       "Balance             6382\n",
       "NumOfProducts          4\n",
       "HasCrCard              2\n",
       "IsActiveMember         2\n",
       "EstimatedSalary     9999\n",
       "Exited                 2\n",
       "dtype: int64"
      ]
     },
     "execution_count": 17,
     "metadata": {},
     "output_type": "execute_result"
    }
   ],
   "source": [
    "data.nunique() # returns the number of unique values for each column"
   ]
  },
  {
   "cell_type": "code",
   "execution_count": 18,
   "id": "eabadfb3-6ae0-464d-874b-04c9e4d60553",
   "metadata": {},
   "outputs": [],
   "source": [
    "# Null Value Distribution"
   ]
  },
  {
   "cell_type": "code",
   "execution_count": 19,
   "id": "f3f7b49b-283a-4491-87cf-f84e867c6bdb",
   "metadata": {},
   "outputs": [
    {
     "data": {
      "text/plain": [
       "RowNumber          0\n",
       "CustomerId         0\n",
       "Surname            0\n",
       "CreditScore        0\n",
       "Geography          0\n",
       "Gender             0\n",
       "Age                0\n",
       "Tenure             0\n",
       "Balance            0\n",
       "NumOfProducts      0\n",
       "HasCrCard          0\n",
       "IsActiveMember     0\n",
       "EstimatedSalary    0\n",
       "Exited             0\n",
       "dtype: int64"
      ]
     },
     "execution_count": 19,
     "metadata": {},
     "output_type": "execute_result"
    }
   ],
   "source": [
    "data.isnull().sum() #Calling the sum() method on the isnull() series returns the count of True values which actually corresponds to\n",
    "#the number of NaN values"
   ]
  },
  {
   "cell_type": "code",
   "execution_count": 20,
   "id": "c20217b0-3a94-458d-bc07-d04abc9dd546",
   "metadata": {},
   "outputs": [],
   "source": [
    "# Preprocessing and Cleaning dataset"
   ]
  },
  {
   "cell_type": "code",
   "execution_count": 21,
   "id": "416dfd49-d0ac-4c77-b4bd-ceb135dcd86e",
   "metadata": {},
   "outputs": [
    {
     "name": "stdout",
     "output_type": "stream",
     "text": [
      "There is no missing data\n"
     ]
    }
   ],
   "source": [
    "if data.isnull().sum().sum() == 0:\n",
    "    print('There is no missing data')\n",
    "    \n",
    "else:\n",
    "    print('There is {} missing data'.format(data.isnull().sum().sum()))"
   ]
  },
  {
   "cell_type": "code",
   "execution_count": 22,
   "id": "d4f11abd-4b3d-47e1-bb67-2076e2c7a13a",
   "metadata": {},
   "outputs": [
    {
     "name": "stdout",
     "output_type": "stream",
     "text": [
      "There is no duplicated data\n"
     ]
    }
   ],
   "source": [
    "if data.duplicated().sum().sum() == 0:\n",
    "    print('There is no duplicated data')\n",
    "    \n",
    "else:\n",
    "    print('There is {} duplicated data'.format(data.duplicated().sum().sum()))"
   ]
  },
  {
   "cell_type": "code",
   "execution_count": 23,
   "id": "8ccd5750-ef41-480a-bba6-7e27c789af90",
   "metadata": {},
   "outputs": [
    {
     "name": "stdout",
     "output_type": "stream",
     "text": [
      "Geography : ['France' 'Spain' 'Germany']\n",
      "----------------------------------------\n",
      "Gender: ['Female' 'Male']\n"
     ]
    }
   ],
   "source": [
    "#This code shows the customers of this bank dataset live in which country.\n",
    "print('Geography :',data['Geography'].unique())\n",
    "print('-'*40)\n",
    "#This code shows how many genders contain in this dataset.\n",
    "print('Gender:', data['Gender'].unique())"
   ]
  },
  {
   "cell_type": "code",
   "execution_count": 24,
   "id": "11b9dc1d-dfb9-4c5e-8d04-7699d4ef5494",
   "metadata": {},
   "outputs": [],
   "source": [
    "#Our customers are only from three countries:\n",
    "# France\n",
    "# Spain\n",
    "# Germany\n",
    "# Visualization\n",
    "\n",
    "#Let's visualize the distribution of customers in these three countries."
   ]
  },
  {
   "cell_type": "code",
   "execution_count": 25,
   "id": "1f7fe3ad-3663-4ecf-885f-9d425dde36a8",
   "metadata": {},
   "outputs": [],
   "source": [
    "# More than 50% of our customers from france"
   ]
  },
  {
   "cell_type": "code",
   "execution_count": 26,
   "id": "eef1f15b-c211-421a-83a0-a273c200f936",
   "metadata": {},
   "outputs": [
    {
     "data": {
      "image/png": "[encoded data removed]",
      "text/plain": [
       "<Figure size 640x480 with 1 Axes>"
      ]
     },
     "metadata": {},
     "output_type": "display_data"
    }
   ],
   "source": [
    "Country_dist = sns.countplot(data=data, x='Geography');\n",
    "Country_dist.bar_label(Country_dist.containers[0]);\n",
    "\n",
    "plt.title('Customer distribution according to their countries');\n",
    "plt.xlabel('Country');\n",
    "plt.ylabel('N_customers');"
   ]
  },
  {
   "cell_type": "code",
   "execution_count": 27,
   "id": "822cf351-fe15-40ff-83de-2a6b83971abb",
   "metadata": {},
   "outputs": [
    {
     "name": "stderr",
     "output_type": "stream",
     "text": [
      "No artists with labels found to put in legend.  Note that artists whose label start with an underscore are ignored when legend() is called with no argument.\n"
     ]
    },
    {
     "data": {
      "image/png": "[encoded data removed]",
      "text/plain": [
       "<Figure size 800x400 with 2 Axes>"
      ]
     },
     "metadata": {},
     "output_type": "display_data"
    }
   ],
   "source": [
    "#This plot shows all of the customers who exited or stayed at bank.\n",
    "count = data['Exited'].value_counts()\n",
    "plt.figure(figsize=(8,4));\n",
    "plt.subplot(1,2,1);\n",
    "ax=sns.countplot(data=data, x='Exited');\n",
    "ax.bar_label(ax.containers[0])\n",
    "\n",
    "plt.subplot(1,2,2);\n",
    "plt.pie(count.values, autopct=\"%1.1f%%\",explode=[0,0.1]);\n",
    "plt.legend();"
   ]
  },
  {
   "cell_type": "code",
   "execution_count": 28,
   "id": "9fed1aab-2792-4602-a0cc-671518ff540f",
   "metadata": {},
   "outputs": [
    {
     "data": {
      "image/png": "[encoded data removed]",
      "text/plain": [
       "<Figure size 800x400 with 1 Axes>"
      ]
     },
     "metadata": {},
     "output_type": "display_data"
    }
   ],
   "source": [
    "plt.figure(figsize=(8,4));\n",
    "age_plot=sns.countplot(data=data, x='Age');\n",
    "plt.xticks(rotation=90, fontsize=8);\n",
    "plt.title('Age distribution');\n"
   ]
  },
  {
   "cell_type": "code",
   "execution_count": 29,
   "id": "d37f9bc6-6f0f-4238-8053-3da60b22f80c",
   "metadata": {},
   "outputs": [
    {
     "data": {
      "text/plain": [
       "70"
      ]
     },
     "execution_count": 29,
     "metadata": {},
     "output_type": "execute_result"
    }
   ],
   "source": [
    "# The age plot doesn't give us clear information, so we must make ranges for ages to understand more detail.\n",
    "data['Age'].nunique()"
   ]
  },
  {
   "cell_type": "code",
   "execution_count": 30,
   "id": "c554d935-74ac-4cc0-abbc-522d6fe20730",
   "metadata": {},
   "outputs": [
    {
     "name": "stdout",
     "output_type": "stream",
     "text": [
      "Unique ages:  [18, 19, 20, 21, 22, 23, 24, 25, 26, 27, 28, 29, 30, 31, 32, 33, 34, 35, 36, 37, 38, 39, 40, 41, 42, 43, 44, 45, 46, 47, 48, 49, 50, 51, 52, 53, 54, 55, 56, 57, 58, 59, 60, 61, 62, 63, 64, 65, 66, 67, 68, 69, 70, 71, 72, 73, 74, 75, 76, 77, 78, 79, 80, 81, 82, 83, 84, 85, 88, 92]\n"
     ]
    }
   ],
   "source": [
    "unique_age = list(set(data['Age']))\n",
    "unique_age.sort()\n",
    "\n",
    "print('Unique ages: ', unique_age)"
   ]
  },
  {
   "cell_type": "code",
   "execution_count": 31,
   "id": "464cfb22-94b9-4021-a40d-b5018bbe6bf2",
   "metadata": {},
   "outputs": [],
   "source": [
    "# Feature Extraction\n",
    "data['Age_range'] = pd.cut(data['Age'], [17,25,35,45,55,65,75,100], \n",
    "                           labels=['18-25','26-35', '36-45', '46-55', '56-65', '66-75','76-100'])"
   ]
  },
  {
   "cell_type": "code",
   "execution_count": 32,
   "id": "247a8a03-aa45-48fa-a39a-46e1d2552a16",
   "metadata": {},
   "outputs": [
    {
     "data": {
      "image/png": "[encoded data removed]",
      "text/plain": [
       "<Figure size 640x480 with 1 Axes>"
      ]
     },
     "metadata": {},
     "output_type": "display_data"
    }
   ],
   "source": [
    "# THis plot shows the customers age range. \n",
    "age_range_plot=sns.countplot(data=data, x='Age_range');\n",
    "plt.title('Age range distribution');"
   ]
  },
  {
   "cell_type": "code",
   "execution_count": 33,
   "id": "475d3b54-836b-4eb9-b44e-590bc9e72a38",
   "metadata": {},
   "outputs": [],
   "source": [
    "##Now we know most people who exited from our bank are 36-45 and 46-55."
   ]
  },
  {
   "cell_type": "code",
   "execution_count": 34,
   "id": "69cf200c-3951-4d6c-9242-7e952efa3de9",
   "metadata": {},
   "outputs": [
    {
     "data": {
      "image/png": "[encoded data removed]",
      "text/plain": [
       "<Figure size 640x480 with 1 Axes>"
      ]
     },
     "metadata": {},
     "output_type": "display_data"
    }
   ],
   "source": [
    "data['Exited'] = data['Exited'].astype(str)\n",
    "\n",
    "# Create the countplot\n",
    "age_range_exit = sns.countplot(data=data, x='Age_range', hue='Exited')\n",
    "\n",
    "# Add labels to the bars\n",
    "#age_range_exit.bar_label(age_range_exit.containers[0])\n",
    "#age_range_exit.bar_label(age_range_exit.containers[1])\n",
    "\n",
    "# Show the plot\n",
    "plt.show()"
   ]
  },
  {
   "cell_type": "code",
   "execution_count": 35,
   "id": "58dce072",
   "metadata": {},
   "outputs": [
    {
     "data": {
      "image/png": "[encoded data removed]",
      "text/plain": [
       "<Figure size 1800x1200 with 6 Axes>"
      ]
     },
     "metadata": {},
     "output_type": "display_data"
    }
   ],
   "source": [
    "fig, ax = plt.subplots(3, 2, figsize=(18, 12))\n",
    "\n",
    "sns.countplot(x='Geography', hue='Exited', data=data, ax=ax[0, 0])\n",
    "sns.countplot(x='Gender', hue='Exited', data=data, ax=ax[0, 1])\n",
    "sns.countplot(x='Tenure', hue='Exited', data=data, ax=ax[1, 0])\n",
    "sns.countplot(x='NumOfProducts', hue='Exited', data=data, ax=ax[1, 1])\n",
    "sns.countplot(x='HasCrCard', hue='Exited', data=data, ax=ax[2, 0])\n",
    "sns.countplot(x='IsActiveMember', hue='Exited', data=data, ax=ax[2, 1])\n",
    "\n",
    "# Adjust the layout\n",
    "plt.tight_layout()\n",
    "plt.show()\n"
   ]
  },
  {
   "cell_type": "code",
   "execution_count": 36,
   "id": "87671f24",
   "metadata": {},
   "outputs": [],
   "source": [
    "# Larger percentage of female customers are churning compared to male customers. \\ The largest proportion of customers \n",
    "# in the dataset are from France. \\ Majority of customers who churned had credit cards. \\ Inactive members exhibit a higher\n",
    "#churn rate"
   ]
  },
  {
   "cell_type": "code",
   "execution_count": 37,
   "id": "1be30db0",
   "metadata": {},
   "outputs": [
    {
     "data": {
      "text/plain": [
       "<Axes: xlabel='Age', ylabel='Count'>"
      ]
     },
     "execution_count": 37,
     "metadata": {},
     "output_type": "execute_result"
    },
    {
     "data": {
      "image/png": "[encoded data removed]",
      "text/plain": [
       "<Figure size 1800x1500 with 4 Axes>"
      ]
     },
     "metadata": {},
     "output_type": "display_data"
    }
   ],
   "source": [
    "fig , axes = plt.subplots(2, 2, figsize = (18, 15))\n",
    "\n",
    "sns.histplot(data=data, x='Balance', hue='Exited', ax=axes[0][0], multiple=\"dodge\")\n",
    "sns.histplot(data=data, x='EstimatedSalary', hue='Exited', ax=axes[0][1], multiple=\"dodge\")\n",
    "sns.histplot(data=data, x='CreditScore', ax=axes[1][0],  hue='Exited', multiple=\"dodge\")\n",
    "sns.histplot(data=data, x='Age', ax=axes[1][1], hue='Exited', multiple=\"dodge\")"
   ]
  },
  {
   "cell_type": "code",
   "execution_count": 38,
   "id": "45617831",
   "metadata": {},
   "outputs": [],
   "source": [
    "## categorical variables"
   ]
  },
  {
   "cell_type": "code",
   "execution_count": 39,
   "id": "2243d326",
   "metadata": {},
   "outputs": [
    {
     "data": {
      "text/plain": [
       "<Axes: xlabel='Exited', ylabel='count'>"
      ]
     },
     "execution_count": 39,
     "metadata": {},
     "output_type": "execute_result"
    },
    {
     "data": {
      "image/png": "[encoded data removed]",
      "text/plain": [
       "<Figure size 2500x2500 with 7 Axes>"
      ]
     },
     "metadata": {},
     "output_type": "display_data"
    }
   ],
   "source": [
    "plt.figure(figsize = (25,25))\n",
    "\n",
    "plt.subplot(4,2,1)\n",
    "sns.countplot(x = 'Geography', palette='Set2', data = data)\n",
    "\n",
    "plt.subplot(4,2,2)\n",
    "sns.countplot(x = 'Gender', palette='Set2', data = data)\n",
    "\n",
    "plt.subplot(4,2,3)\n",
    "sns.countplot(x = 'Tenure', palette='Set2', data = data)\n",
    "\n",
    "plt.subplot(4,2,4)\n",
    "sns.countplot(x = 'NumOfProducts', palette='Set2', data = data)\n",
    "\n",
    "plt.subplot(4,2,5)\n",
    "sns.countplot(x = 'HasCrCard', palette='Set2', data = data)\n",
    "\n",
    "plt.subplot(4,2,6)\n",
    "sns.countplot(x = 'IsActiveMember', palette='Set2', data = data)\n",
    "\n",
    "\n",
    "\n",
    "plt.subplot(4,2,7)\n",
    "sns.countplot(x = 'Exited', palette='Set2', data = data)\n"
   ]
  },
  {
   "cell_type": "code",
   "execution_count": 40,
   "id": "1f10a6a0",
   "metadata": {},
   "outputs": [],
   "source": [
    "### Bvariate Analysis"
   ]
  },
  {
   "cell_type": "code",
   "execution_count": 41,
   "id": "2f9082e7",
   "metadata": {},
   "outputs": [
    {
     "data": {
      "image/png": "[encoded data removed]",
      "text/plain": [
       "<Figure size 2000x2000 with 6 Axes>"
      ]
     },
     "metadata": {},
     "output_type": "display_data"
    }
   ],
   "source": [
    "\n",
    "\n",
    "import seaborn as sns\n",
    "import matplotlib.pyplot as plt\n",
    "\n",
    "# Assuming 'data' is your DataFrame\n",
    "# Convert relevant columns to string to avoid AttributeError\n",
    "data['Geography'] = data['Geography'].astype(str)\n",
    "data['Gender'] = data['Gender'].astype(str)\n",
    "data['Tenure'] = data['Tenure'].astype(str)\n",
    "data['NumOfProducts'] = data['NumOfProducts'].astype(str)\n",
    "data['HasCrCard'] = data['HasCrCard'].astype(str)\n",
    "data['IsActiveMember'] = data['IsActiveMember'].astype(str)\n",
    "data['Exited'] = data['Exited'].astype(str)\n",
    "\n",
    "plt.figure(figsize=(20, 20))\n",
    "\n",
    "plt.subplot(3, 2, 1)\n",
    "sns.countplot(x='Exited', hue='Geography', palette='Set1', data=data)\n",
    "\n",
    "plt.subplot(3, 2, 2)\n",
    "sns.countplot(x='Exited', hue='Gender', palette='Set1', data=data)\n",
    "\n",
    "plt.subplot(3, 2, 3)\n",
    "sns.countplot(x='Exited', hue='Tenure', palette='Set1', data=data)\n",
    "\n",
    "plt.subplot(3, 2, 4)\n",
    "sns.countplot(x='Exited', hue='NumOfProducts', palette='Set1', data=data)\n",
    "\n",
    "plt.subplot(3, 2, 5)\n",
    "sns.countplot(x='Exited', hue='HasCrCard', palette='Set1', data=data)\n",
    "\n",
    "plt.subplot(3, 2, 6)\n",
    "sns.countplot(x='Exited', hue='IsActiveMember', palette='Set1', data=data)\n",
    "\n",
    "plt.tight_layout()\n",
    "plt.show()\n"
   ]
  },
  {
   "cell_type": "code",
   "execution_count": 42,
   "id": "bd4cd7c6",
   "metadata": {},
   "outputs": [],
   "source": [
    "# Customers with zero balances are not churning. \\ Churn rates increase among customers after the age of 50. \\\n",
    "# Estimated salary of customers does not significantly influence their likelihood to churn"
   ]
  },
  {
   "cell_type": "code",
   "execution_count": 43,
   "id": "ca63168a",
   "metadata": {},
   "outputs": [],
   "source": [
    "from powerbiclient import Report, models"
   ]
  },
  {
   "cell_type": "code",
   "execution_count": 44,
   "id": "c1202b64",
   "metadata": {},
   "outputs": [],
   "source": [
    "#import libraries\n",
    "from powerbiclient import Report, models, authentication\n",
    "from powerbiclient.authentication import InteractiveLoginAuthentication\n"
   ]
  },
  {
   "cell_type": "code",
   "execution_count": 45,
   "id": "d0581899",
   "metadata": {},
   "outputs": [
    {
     "name": "stdout",
     "output_type": "stream",
     "text": [
      "A local browser window will open for interactive sign in.\n",
      "\n",
      "Interactive authentication successfully completed.\n",
      "You are now logged in.\n",
      "\n",
      "The result should be passed only to trusted code in your notebook.\n"
     ]
    }
   ],
   "source": [
    "# Authenticate to Power BI service using InteractiveLoginAuthentication\n",
    "auth = authentication.InteractiveLoginAuthentication()"
   ]
  },
  {
   "cell_type": "code",
   "execution_count": 46,
   "id": "293297ce",
   "metadata": {},
   "outputs": [],
   "source": [
    "#pip install IPython ipywidgets"
   ]
  },
  {
   "cell_type": "code",
   "execution_count": 47,
   "id": "98c2d981",
   "metadata": {},
   "outputs": [
    {
     "data": {
      "text/html": [
       "\n",
       "        <iframe\n",
       "            width=\"800\"\n",
       "            height=\"600\"\n",
       "            src=\"https://app.powerbi.com/reportEmbed?reportId=32803f8e-05d1-47a5-a27a-5cc1d2b86264&autoAuth=true&ctid=840f859c-9de6-42e1-bb24-49ee394e5505\"\n",
       "            frameborder=\"0\"\n",
       "            allowfullscreen\n",
       "            \n",
       "        ></iframe>\n",
       "        "
      ],
      "text/plain": [
       "<IPython.lib.display.IFrame at 0x16acdc743d0>"
      ]
     },
     "execution_count": 47,
     "metadata": {},
     "output_type": "execute_result"
    }
   ],
   "source": [
    "from IPython.display import IFrame\n",
    "\n",
    "# Replace the URL with your actual Embed URL from Power BI\n",
    "embed_url = \"https://app.powerbi.com/reportEmbed?reportId=32803f8e-05d1-47a5-a27a-5cc1d2b86264&autoAuth=true&ctid=840f859c-9de6-42e1-bb24-49ee394e5505\"\n",
    "\n",
    "# Define the width and height for the embedded report\n",
    "width = 800\n",
    "height = 600\n",
    "\n",
    "# Embed the Power BI report in an iframe\n",
    "IFrame(embed_url, width=width, height=height)"
   ]
  },
  {
   "cell_type": "code",
   "execution_count": 48,
   "id": "c932d04a",
   "metadata": {},
   "outputs": [],
   "source": [
    "## Next step: making range for Balance"
   ]
  },
  {
   "cell_type": "code",
   "execution_count": 49,
   "id": "ab4ae0fa",
   "metadata": {},
   "outputs": [
    {
     "data": {
      "image/png": "[encoded data removed]",
      "text/plain": [
       "<Figure size 640x480 with 1 Axes>"
      ]
     },
     "metadata": {},
     "output_type": "display_data"
    }
   ],
   "source": [
    "sns.histplot(data=data, x='Balance', hue='Exited', multiple=\"stack\");"
   ]
  },
  {
   "cell_type": "code",
   "execution_count": 50,
   "id": "b69e3719",
   "metadata": {},
   "outputs": [
    {
     "data": {
      "text/plain": [
       "250898.09"
      ]
     },
     "execution_count": 50,
     "metadata": {},
     "output_type": "execute_result"
    }
   ],
   "source": [
    "data['Balance'].max()"
   ]
  },
  {
   "cell_type": "code",
   "execution_count": 51,
   "id": "8d8d809c",
   "metadata": {},
   "outputs": [],
   "source": [
    "data['Balance_range'] = pd.cut(data['Balance'], [0,50000,100000,150000,200000,250100], \n",
    "                           labels=['0-50000','50000-100000', '100001-150000', '150001-200000', '200001-250100'])"
   ]
  },
  {
   "cell_type": "code",
   "execution_count": 52,
   "id": "9eab18c1",
   "metadata": {},
   "outputs": [
    {
     "data": {
      "text/plain": [
       "[NaN, '50000-100000', '150001-200000', '100001-150000', '0-50000', '200001-250100']\n",
       "Categories (5, object): ['0-50000' < '50000-100000' < '100001-150000' < '150001-200000' < '200001-250100']"
      ]
     },
     "execution_count": 52,
     "metadata": {},
     "output_type": "execute_result"
    }
   ],
   "source": [
    "data['Balance_range'].unique()"
   ]
  },
  {
   "cell_type": "code",
   "execution_count": 53,
   "id": "28d4723b",
   "metadata": {},
   "outputs": [
    {
     "data": {
      "text/plain": [
       "3618"
      ]
     },
     "execution_count": 53,
     "metadata": {},
     "output_type": "execute_result"
    }
   ],
   "source": [
    "data.isnull().sum().sum()"
   ]
  },
  {
   "cell_type": "code",
   "execution_count": 54,
   "id": "fbfb285c",
   "metadata": {},
   "outputs": [
    {
     "data": {
      "text/plain": [
       "<Axes: xlabel='Balance_range', ylabel='count'>"
      ]
     },
     "execution_count": 54,
     "metadata": {},
     "output_type": "execute_result"
    },
    {
     "data": {
      "image/png": "[encoded data removed]",
      "text/plain": [
       "<Figure size 640x480 with 1 Axes>"
      ]
     },
     "metadata": {},
     "output_type": "display_data"
    }
   ],
   "source": [
    "sns.countplot(data=data, x='Balance_range')"
   ]
  },
  {
   "cell_type": "code",
   "execution_count": 55,
   "id": "b607fe12",
   "metadata": {},
   "outputs": [
    {
     "data": {
      "text/html": [
       "<div>\n",
       "<style scoped>\n",
       "    .dataframe tbody tr th:only-of-type {\n",
       "        vertical-align: middle;\n",
       "    }\n",
       "\n",
       "    .dataframe tbody tr th {\n",
       "        vertical-align: top;\n",
       "    }\n",
       "\n",
       "    .dataframe thead th {\n",
       "        text-align: right;\n",
       "    }\n",
       "</style>\n",
       "<table border=\"1\" class=\"dataframe\">\n",
       "  <thead>\n",
       "    <tr style=\"text-align: right;\">\n",
       "      <th></th>\n",
       "      <th>RowNumber</th>\n",
       "      <th>CustomerId</th>\n",
       "      <th>Surname</th>\n",
       "      <th>CreditScore</th>\n",
       "      <th>Geography</th>\n",
       "      <th>Gender</th>\n",
       "      <th>Age</th>\n",
       "      <th>Tenure</th>\n",
       "      <th>Balance</th>\n",
       "      <th>NumOfProducts</th>\n",
       "      <th>HasCrCard</th>\n",
       "      <th>IsActiveMember</th>\n",
       "      <th>EstimatedSalary</th>\n",
       "      <th>Exited</th>\n",
       "      <th>Age_range</th>\n",
       "      <th>Balance_range</th>\n",
       "    </tr>\n",
       "  </thead>\n",
       "  <tbody>\n",
       "    <tr>\n",
       "      <th>0</th>\n",
       "      <td>1</td>\n",
       "      <td>15634602</td>\n",
       "      <td>Hargrave</td>\n",
       "      <td>619</td>\n",
       "      <td>France</td>\n",
       "      <td>Female</td>\n",
       "      <td>42</td>\n",
       "      <td>2</td>\n",
       "      <td>Zero $</td>\n",
       "      <td>1</td>\n",
       "      <td>1</td>\n",
       "      <td>1</td>\n",
       "      <td>101348.88</td>\n",
       "      <td>1</td>\n",
       "      <td>36-45</td>\n",
       "      <td>NaN</td>\n",
       "    </tr>\n",
       "    <tr>\n",
       "      <th>1</th>\n",
       "      <td>2</td>\n",
       "      <td>15647311</td>\n",
       "      <td>Hill</td>\n",
       "      <td>608</td>\n",
       "      <td>Spain</td>\n",
       "      <td>Female</td>\n",
       "      <td>41</td>\n",
       "      <td>1</td>\n",
       "      <td>More than Zero $</td>\n",
       "      <td>1</td>\n",
       "      <td>0</td>\n",
       "      <td>1</td>\n",
       "      <td>112542.58</td>\n",
       "      <td>0</td>\n",
       "      <td>36-45</td>\n",
       "      <td>50000-100000</td>\n",
       "    </tr>\n",
       "    <tr>\n",
       "      <th>2</th>\n",
       "      <td>3</td>\n",
       "      <td>15619304</td>\n",
       "      <td>Onio</td>\n",
       "      <td>502</td>\n",
       "      <td>France</td>\n",
       "      <td>Female</td>\n",
       "      <td>42</td>\n",
       "      <td>8</td>\n",
       "      <td>More than Zero $</td>\n",
       "      <td>3</td>\n",
       "      <td>1</td>\n",
       "      <td>0</td>\n",
       "      <td>113931.57</td>\n",
       "      <td>1</td>\n",
       "      <td>36-45</td>\n",
       "      <td>150001-200000</td>\n",
       "    </tr>\n",
       "    <tr>\n",
       "      <th>3</th>\n",
       "      <td>4</td>\n",
       "      <td>15701354</td>\n",
       "      <td>Boni</td>\n",
       "      <td>699</td>\n",
       "      <td>France</td>\n",
       "      <td>Female</td>\n",
       "      <td>39</td>\n",
       "      <td>1</td>\n",
       "      <td>Zero $</td>\n",
       "      <td>2</td>\n",
       "      <td>0</td>\n",
       "      <td>0</td>\n",
       "      <td>93826.63</td>\n",
       "      <td>0</td>\n",
       "      <td>36-45</td>\n",
       "      <td>NaN</td>\n",
       "    </tr>\n",
       "    <tr>\n",
       "      <th>4</th>\n",
       "      <td>5</td>\n",
       "      <td>15737888</td>\n",
       "      <td>Mitchell</td>\n",
       "      <td>850</td>\n",
       "      <td>Spain</td>\n",
       "      <td>Female</td>\n",
       "      <td>43</td>\n",
       "      <td>2</td>\n",
       "      <td>More than Zero $</td>\n",
       "      <td>1</td>\n",
       "      <td>1</td>\n",
       "      <td>1</td>\n",
       "      <td>79084.10</td>\n",
       "      <td>0</td>\n",
       "      <td>36-45</td>\n",
       "      <td>100001-150000</td>\n",
       "    </tr>\n",
       "  </tbody>\n",
       "</table>\n",
       "</div>"
      ],
      "text/plain": [
       "   RowNumber  CustomerId   Surname  CreditScore Geography  Gender  Age Tenure  \\\n",
       "0          1    15634602  Hargrave          619    France  Female   42      2   \n",
       "1          2    15647311      Hill          608     Spain  Female   41      1   \n",
       "2          3    15619304      Onio          502    France  Female   42      8   \n",
       "3          4    15701354      Boni          699    France  Female   39      1   \n",
       "4          5    15737888  Mitchell          850     Spain  Female   43      2   \n",
       "\n",
       "            Balance NumOfProducts HasCrCard IsActiveMember  EstimatedSalary  \\\n",
       "0            Zero $             1         1              1        101348.88   \n",
       "1  More than Zero $             1         0              1        112542.58   \n",
       "2  More than Zero $             3         1              0        113931.57   \n",
       "3            Zero $             2         0              0         93826.63   \n",
       "4  More than Zero $             1         1              1         79084.10   \n",
       "\n",
       "  Exited Age_range  Balance_range  \n",
       "0      1     36-45            NaN  \n",
       "1      0     36-45   50000-100000  \n",
       "2      1     36-45  150001-200000  \n",
       "3      0     36-45            NaN  \n",
       "4      0     36-45  100001-150000  "
      ]
     },
     "execution_count": 55,
     "metadata": {},
     "output_type": "execute_result"
    }
   ],
   "source": [
    "balance =[(data['Balance']==0), (data['Balance']>0)]\n",
    "bal_values = ['Zero $', 'More than Zero $']\n",
    "data['Balance'] = np.select(balance,bal_values)\n",
    "data.head()"
   ]
  },
  {
   "cell_type": "code",
   "execution_count": 56,
   "id": "38b96685",
   "metadata": {},
   "outputs": [
    {
     "data": {
      "image/png": "[encoded data removed]",
      "text/plain": [
       "<Figure size 640x480 with 1 Axes>"
      ]
     },
     "metadata": {},
     "output_type": "display_data"
    }
   ],
   "source": [
    "# This plot shows the customers with money in their account churned more than the customers with zero balance\n",
    "\n",
    "balance_exit= sns.countplot(data=data, x='Balance', hue='Exited');\n",
    "balance_exit.bar_label(balance_exit.containers[0]);\n",
    "balance_exit.bar_label(balance_exit.containers[1]);"
   ]
  },
  {
   "cell_type": "code",
   "execution_count": 57,
   "id": "6925250a",
   "metadata": {},
   "outputs": [],
   "source": [
    "# If we want to train our model based on the Balance feature, we need to make the data balance(our data are imbalanced)"
   ]
  },
  {
   "cell_type": "code",
   "execution_count": 58,
   "id": "a24609d7",
   "metadata": {},
   "outputs": [
    {
     "data": {
      "image/png": "[encoded data removed]",
      "text/plain": [
       "<Figure size 1000x400 with 1 Axes>"
      ]
     },
     "metadata": {},
     "output_type": "display_data"
    }
   ],
   "source": [
    "#This code displays the number of years customers have been with the bank as well as customers who exited in each period.\n",
    "plt.figure(figsize=(10,4))\n",
    "tenure_exit_plot=sns.histplot(data=data, x='Tenure', hue='Exited', multiple=\"stack\");\n",
    "tenure_exit_plot.bar_label(tenure_exit_plot.containers[0]);\n",
    "tenure_exit_plot.bar_label(tenure_exit_plot.containers[1]);\n",
    "plt.xlabel('Years');"
   ]
  },
  {
   "cell_type": "code",
   "execution_count": 59,
   "id": "db94c9ec",
   "metadata": {},
   "outputs": [
    {
     "data": {
      "text/plain": [
       "[Text(0, 0, '5084'), Text(0, 0, '266'), Text(0, 0, '4590'), Text(0, 0, '60')]"
      ]
     },
     "execution_count": 59,
     "metadata": {},
     "output_type": "execute_result"
    },
    {
     "data": {
      "image/png": "[encoded data removed]",
      "text/plain": [
       "<Figure size 640x480 with 1 Axes>"
      ]
     },
     "metadata": {},
     "output_type": "display_data"
    }
   ],
   "source": [
    "# This plot shows the distribution of people with the number of products they use.\n",
    "n_product = sns.countplot(data=data, x='NumOfProducts');\n",
    "n_product.bar_label(n_product.containers[0])"
   ]
  },
  {
   "cell_type": "code",
   "execution_count": 60,
   "id": "a6c726b5",
   "metadata": {},
   "outputs": [
    {
     "data": {
      "image/png": "[encoded data removed]",
      "text/plain": [
       "<Figure size 640x480 with 1 Axes>"
      ]
     },
     "metadata": {},
     "output_type": "display_data"
    }
   ],
   "source": [
    "# With this plot, we can understand the relation between the number of products and exited customers.\n",
    "\n",
    "n_product_ex= sns.countplot(data=data, x='NumOfProducts', hue='Exited');\n",
    "n_product_ex.bar_label(n_product_ex.containers[0]);\n",
    "n_product_ex.bar_label(n_product_ex.containers[1]);"
   ]
  },
  {
   "cell_type": "code",
   "execution_count": 61,
   "id": "1a6e2633",
   "metadata": {},
   "outputs": [],
   "source": [
    "# As you can see, most Exited Customers used one or two products."
   ]
  },
  {
   "cell_type": "code",
   "execution_count": 62,
   "id": "2cefa853",
   "metadata": {},
   "outputs": [
    {
     "name": "stdout",
     "output_type": "stream",
     "text": [
      "Columns in DataFrame: Index(['RowNumber', 'CustomerId', 'Surname', 'CreditScore', 'Geography',\n",
      "       'Gender', 'Age', 'Tenure', 'Balance', 'NumOfProducts', 'HasCrCard',\n",
      "       'IsActiveMember', 'EstimatedSalary', 'Exited', 'Age_range',\n",
      "       'Balance_range'],\n",
      "      dtype='object')\n",
      "   RowNumber  CustomerId   Surname  CreditScore Geography  Gender  Age Tenure  \\\n",
      "0          1    15634602  Hargrave          619    France  Female   42      2   \n",
      "1          2    15647311      Hill          608     Spain  Female   41      1   \n",
      "2          3    15619304      Onio          502    France  Female   42      8   \n",
      "3          4    15701354      Boni          699    France  Female   39      1   \n",
      "4          5    15737888  Mitchell          850     Spain  Female   43      2   \n",
      "\n",
      "            Balance  NumOfProducts HasCrCard IsActiveMember  EstimatedSalary  \\\n",
      "0            Zero $              1         1              1        101348.88   \n",
      "1  More than Zero $              1         0              1        112542.58   \n",
      "2  More than Zero $              3         1              0        113931.57   \n",
      "3            Zero $              2         0              0         93826.63   \n",
      "4  More than Zero $              1         1              1         79084.10   \n",
      "\n",
      "  Exited Age_range  Balance_range n_product_range  \n",
      "0      1     36-45            NaN     One product  \n",
      "1      0     36-45   50000-100000     One product  \n",
      "2      1     36-45  150001-200000     More Than 2  \n",
      "3      0     36-45            NaN    Two Products  \n",
      "4      0     36-45  100001-150000     One product  \n"
     ]
    }
   ],
   "source": [
    "\n",
    "# Check the columns of the DataFrame\n",
    "print(\"Columns in DataFrame:\", data.columns)\n",
    "\n",
    "# Ensure 'NumOfProducts' column exists and has the correct name\n",
    "if 'NumOfProducts' in data.columns:\n",
    "    # Convert 'NumOfProducts' to numeric type\n",
    "    data['NumOfProducts'] = pd.to_numeric(data['NumOfProducts'], errors='coerce')\n",
    "\n",
    "    # Original code to create n_product_range and assign values\n",
    "    n_product_range = [(data['NumOfProducts'] == 1), (data['NumOfProducts'] == 2), (data['NumOfProducts'] > 2)]\n",
    "    values = [\"One product\", \"Two Products\", \"More Than 2\"]\n",
    "\n",
    "    data[\"n_product_range\"] = np.select(n_product_range, values)\n",
    "    print(data.head())\n",
    "else:\n",
    "    print(\"Column 'NumOfProducts' not found in DataFrame.\")\n"
   ]
  },
  {
   "cell_type": "code",
   "execution_count": 63,
   "id": "8b0671bb",
   "metadata": {},
   "outputs": [
    {
     "data": {
      "text/html": [
       "<div>\n",
       "<style scoped>\n",
       "    .dataframe tbody tr th:only-of-type {\n",
       "        vertical-align: middle;\n",
       "    }\n",
       "\n",
       "    .dataframe tbody tr th {\n",
       "        vertical-align: top;\n",
       "    }\n",
       "\n",
       "    .dataframe thead th {\n",
       "        text-align: right;\n",
       "    }\n",
       "</style>\n",
       "<table border=\"1\" class=\"dataframe\">\n",
       "  <thead>\n",
       "    <tr style=\"text-align: right;\">\n",
       "      <th></th>\n",
       "      <th>CreditScore</th>\n",
       "      <th>Geography</th>\n",
       "      <th>Gender</th>\n",
       "      <th>Tenure</th>\n",
       "      <th>Balance</th>\n",
       "      <th>HasCrCard</th>\n",
       "      <th>IsActiveMember</th>\n",
       "      <th>EstimatedSalary</th>\n",
       "      <th>Exited</th>\n",
       "      <th>Age_range</th>\n",
       "      <th>Balance_range</th>\n",
       "      <th>n_product_range</th>\n",
       "    </tr>\n",
       "  </thead>\n",
       "  <tbody>\n",
       "    <tr>\n",
       "      <th>0</th>\n",
       "      <td>619</td>\n",
       "      <td>France</td>\n",
       "      <td>Female</td>\n",
       "      <td>2</td>\n",
       "      <td>Zero $</td>\n",
       "      <td>1</td>\n",
       "      <td>1</td>\n",
       "      <td>101348.88</td>\n",
       "      <td>1</td>\n",
       "      <td>36-45</td>\n",
       "      <td>NaN</td>\n",
       "      <td>One product</td>\n",
       "    </tr>\n",
       "    <tr>\n",
       "      <th>1</th>\n",
       "      <td>608</td>\n",
       "      <td>Spain</td>\n",
       "      <td>Female</td>\n",
       "      <td>1</td>\n",
       "      <td>More than Zero $</td>\n",
       "      <td>0</td>\n",
       "      <td>1</td>\n",
       "      <td>112542.58</td>\n",
       "      <td>0</td>\n",
       "      <td>36-45</td>\n",
       "      <td>50000-100000</td>\n",
       "      <td>One product</td>\n",
       "    </tr>\n",
       "    <tr>\n",
       "      <th>2</th>\n",
       "      <td>502</td>\n",
       "      <td>France</td>\n",
       "      <td>Female</td>\n",
       "      <td>8</td>\n",
       "      <td>More than Zero $</td>\n",
       "      <td>1</td>\n",
       "      <td>0</td>\n",
       "      <td>113931.57</td>\n",
       "      <td>1</td>\n",
       "      <td>36-45</td>\n",
       "      <td>150001-200000</td>\n",
       "      <td>More Than 2</td>\n",
       "    </tr>\n",
       "    <tr>\n",
       "      <th>3</th>\n",
       "      <td>699</td>\n",
       "      <td>France</td>\n",
       "      <td>Female</td>\n",
       "      <td>1</td>\n",
       "      <td>Zero $</td>\n",
       "      <td>0</td>\n",
       "      <td>0</td>\n",
       "      <td>93826.63</td>\n",
       "      <td>0</td>\n",
       "      <td>36-45</td>\n",
       "      <td>NaN</td>\n",
       "      <td>Two Products</td>\n",
       "    </tr>\n",
       "    <tr>\n",
       "      <th>4</th>\n",
       "      <td>850</td>\n",
       "      <td>Spain</td>\n",
       "      <td>Female</td>\n",
       "      <td>2</td>\n",
       "      <td>More than Zero $</td>\n",
       "      <td>1</td>\n",
       "      <td>1</td>\n",
       "      <td>79084.10</td>\n",
       "      <td>0</td>\n",
       "      <td>36-45</td>\n",
       "      <td>100001-150000</td>\n",
       "      <td>One product</td>\n",
       "    </tr>\n",
       "  </tbody>\n",
       "</table>\n",
       "</div>"
      ],
      "text/plain": [
       "   CreditScore Geography  Gender Tenure           Balance HasCrCard  \\\n",
       "0          619    France  Female      2            Zero $         1   \n",
       "1          608     Spain  Female      1  More than Zero $         0   \n",
       "2          502    France  Female      8  More than Zero $         1   \n",
       "3          699    France  Female      1            Zero $         0   \n",
       "4          850     Spain  Female      2  More than Zero $         1   \n",
       "\n",
       "  IsActiveMember  EstimatedSalary Exited Age_range  Balance_range  \\\n",
       "0              1        101348.88      1     36-45            NaN   \n",
       "1              1        112542.58      0     36-45   50000-100000   \n",
       "2              0        113931.57      1     36-45  150001-200000   \n",
       "3              0         93826.63      0     36-45            NaN   \n",
       "4              1         79084.10      0     36-45  100001-150000   \n",
       "\n",
       "  n_product_range  \n",
       "0     One product  \n",
       "1     One product  \n",
       "2     More Than 2  \n",
       "3    Two Products  \n",
       "4     One product  "
      ]
     },
     "execution_count": 63,
     "metadata": {},
     "output_type": "execute_result"
    }
   ],
   "source": [
    "# Let's drop usless columns \n",
    "data = data.drop(columns=['Surname', 'CustomerId', 'RowNumber', 'NumOfProducts', 'Age'])\n",
    "data.head()"
   ]
  },
  {
   "cell_type": "code",
   "execution_count": 64,
   "id": "ec6fbad3",
   "metadata": {},
   "outputs": [],
   "source": [
    "# I use get_dummies from Pandas libraries to make data categorical.\n",
    "cat_data = ['Geography', 'Gender', 'Age_range', 'Balance', 'n_product_range']\n",
    "\n",
    "data = pd.get_dummies(data=data, columns=cat_data)"
   ]
  },
  {
   "cell_type": "code",
   "execution_count": 65,
   "id": "529e7996",
   "metadata": {},
   "outputs": [
    {
     "data": {
      "text/html": [
       "<div>\n",
       "<style scoped>\n",
       "    .dataframe tbody tr th:only-of-type {\n",
       "        vertical-align: middle;\n",
       "    }\n",
       "\n",
       "    .dataframe tbody tr th {\n",
       "        vertical-align: top;\n",
       "    }\n",
       "\n",
       "    .dataframe thead th {\n",
       "        text-align: right;\n",
       "    }\n",
       "</style>\n",
       "<table border=\"1\" class=\"dataframe\">\n",
       "  <thead>\n",
       "    <tr style=\"text-align: right;\">\n",
       "      <th></th>\n",
       "      <th>CreditScore</th>\n",
       "      <th>EstimatedSalary</th>\n",
       "    </tr>\n",
       "  </thead>\n",
       "  <tbody>\n",
       "    <tr>\n",
       "      <th>count</th>\n",
       "      <td>10000.00</td>\n",
       "      <td>10000.00</td>\n",
       "    </tr>\n",
       "    <tr>\n",
       "      <th>mean</th>\n",
       "      <td>650.53</td>\n",
       "      <td>100090.24</td>\n",
       "    </tr>\n",
       "    <tr>\n",
       "      <th>std</th>\n",
       "      <td>96.65</td>\n",
       "      <td>57510.49</td>\n",
       "    </tr>\n",
       "    <tr>\n",
       "      <th>min</th>\n",
       "      <td>350.00</td>\n",
       "      <td>11.58</td>\n",
       "    </tr>\n",
       "    <tr>\n",
       "      <th>25%</th>\n",
       "      <td>584.00</td>\n",
       "      <td>51002.11</td>\n",
       "    </tr>\n",
       "    <tr>\n",
       "      <th>50%</th>\n",
       "      <td>652.00</td>\n",
       "      <td>100193.91</td>\n",
       "    </tr>\n",
       "    <tr>\n",
       "      <th>75%</th>\n",
       "      <td>718.00</td>\n",
       "      <td>149388.25</td>\n",
       "    </tr>\n",
       "    <tr>\n",
       "      <th>max</th>\n",
       "      <td>850.00</td>\n",
       "      <td>199992.48</td>\n",
       "    </tr>\n",
       "  </tbody>\n",
       "</table>\n",
       "</div>"
      ],
      "text/plain": [
       "       CreditScore  EstimatedSalary\n",
       "count     10000.00         10000.00\n",
       "mean        650.53        100090.24\n",
       "std          96.65         57510.49\n",
       "min         350.00            11.58\n",
       "25%         584.00         51002.11\n",
       "50%         652.00        100193.91\n",
       "75%         718.00        149388.25\n",
       "max         850.00        199992.48"
      ]
     },
     "execution_count": 65,
     "metadata": {},
     "output_type": "execute_result"
    }
   ],
   "source": [
    "data.describe()"
   ]
  },
  {
   "cell_type": "code",
   "execution_count": 66,
   "id": "91e27e0d",
   "metadata": {},
   "outputs": [],
   "source": [
    "#Scale"
   ]
  },
  {
   "cell_type": "code",
   "execution_count": 67,
   "id": "cde53b20",
   "metadata": {},
   "outputs": [],
   "source": [
    "from sklearn.preprocessing import StandardScaler, MinMaxScaler , LabelEncoder"
   ]
  },
  {
   "cell_type": "code",
   "execution_count": 68,
   "id": "802067bc",
   "metadata": {},
   "outputs": [
    {
     "name": "stdout",
     "output_type": "stream",
     "text": [
      "Column Geography does not exist in the DataFrame.\n",
      "Column Gender does not exist in the DataFrame.\n",
      "Column Age_range does not exist in the DataFrame.\n",
      "Column n_product_range does not exist in the DataFrame.\n",
      "<class 'pandas.core.frame.DataFrame'>\n",
      "RangeIndex: 10000 entries, 0 to 9999\n",
      "Data columns (total 24 columns):\n",
      " #   Column                        Non-Null Count  Dtype   \n",
      "---  ------                        --------------  -----   \n",
      " 0   CreditScore                   10000 non-null  int64   \n",
      " 1   Tenure                        10000 non-null  object  \n",
      " 2   HasCrCard                     10000 non-null  object  \n",
      " 3   IsActiveMember                10000 non-null  object  \n",
      " 4   EstimatedSalary               10000 non-null  float64 \n",
      " 5   Exited                        10000 non-null  object  \n",
      " 6   Balance_range                 6382 non-null   category\n",
      " 7   Geography_France              10000 non-null  bool    \n",
      " 8   Geography_Germany             10000 non-null  bool    \n",
      " 9   Geography_Spain               10000 non-null  bool    \n",
      " 10  Gender_Female                 10000 non-null  bool    \n",
      " 11  Gender_Male                   10000 non-null  bool    \n",
      " 12  Age_range_18-25               10000 non-null  bool    \n",
      " 13  Age_range_26-35               10000 non-null  bool    \n",
      " 14  Age_range_36-45               10000 non-null  bool    \n",
      " 15  Age_range_46-55               10000 non-null  bool    \n",
      " 16  Age_range_56-65               10000 non-null  bool    \n",
      " 17  Age_range_66-75               10000 non-null  bool    \n",
      " 18  Age_range_76-100              10000 non-null  bool    \n",
      " 19  Balance_More than Zero $      10000 non-null  bool    \n",
      " 20  Balance_Zero $                10000 non-null  bool    \n",
      " 21  n_product_range_More Than 2   10000 non-null  bool    \n",
      " 22  n_product_range_One product   10000 non-null  bool    \n",
      " 23  n_product_range_Two Products  10000 non-null  bool    \n",
      "dtypes: bool(17), category(1), float64(1), int64(1), object(4)\n",
      "memory usage: 644.9+ KB\n"
     ]
    }
   ],
   "source": [
    "from sklearn.preprocessing import LabelEncoder\n",
    "\n",
    "# Initialize LabelEncoder\n",
    "le = LabelEncoder()\n",
    "\n",
    "# List of columns to encode\n",
    "columns_to_encode = ['Geography', 'Gender', 'Age_range', 'n_product_range']\n",
    "\n",
    "# Apply LabelEncoder to each specified column\n",
    "for column in columns_to_encode:\n",
    "    if column in data.columns:\n",
    "        if data[column].isnull().sum() == 0:  # Check for missing values\n",
    "            data[column] = le.fit_transform(data[column])\n",
    "        else:\n",
    "            print(f\"Column {column} contains missing values.\")\n",
    "    else:\n",
    "        print(f\"Column {column} does not exist in the DataFrame.\")\n",
    "\n",
    "# Display information about the dataframe\n",
    "data.info()\n"
   ]
  },
  {
   "cell_type": "code",
   "execution_count": 69,
   "id": "a2815749",
   "metadata": {},
   "outputs": [],
   "source": [
    "cat_data = ['Geography', 'Gender', 'Age_range', 'Balance', 'n_product_range']"
   ]
  },
  {
   "cell_type": "code",
   "execution_count": 70,
   "id": "2cba4852",
   "metadata": {},
   "outputs": [
    {
     "data": {
      "text/html": [
       "<div>\n",
       "<style scoped>\n",
       "    .dataframe tbody tr th:only-of-type {\n",
       "        vertical-align: middle;\n",
       "    }\n",
       "\n",
       "    .dataframe tbody tr th {\n",
       "        vertical-align: top;\n",
       "    }\n",
       "\n",
       "    .dataframe thead th {\n",
       "        text-align: right;\n",
       "    }\n",
       "</style>\n",
       "<table border=\"1\" class=\"dataframe\">\n",
       "  <thead>\n",
       "    <tr style=\"text-align: right;\">\n",
       "      <th></th>\n",
       "      <th>CreditScore</th>\n",
       "      <th>EstimatedSalary</th>\n",
       "    </tr>\n",
       "  </thead>\n",
       "  <tbody>\n",
       "    <tr>\n",
       "      <th>count</th>\n",
       "      <td>10000.00</td>\n",
       "      <td>10000.00</td>\n",
       "    </tr>\n",
       "    <tr>\n",
       "      <th>mean</th>\n",
       "      <td>650.53</td>\n",
       "      <td>100090.24</td>\n",
       "    </tr>\n",
       "    <tr>\n",
       "      <th>std</th>\n",
       "      <td>96.65</td>\n",
       "      <td>57510.49</td>\n",
       "    </tr>\n",
       "    <tr>\n",
       "      <th>min</th>\n",
       "      <td>350.00</td>\n",
       "      <td>11.58</td>\n",
       "    </tr>\n",
       "    <tr>\n",
       "      <th>25%</th>\n",
       "      <td>584.00</td>\n",
       "      <td>51002.11</td>\n",
       "    </tr>\n",
       "    <tr>\n",
       "      <th>50%</th>\n",
       "      <td>652.00</td>\n",
       "      <td>100193.91</td>\n",
       "    </tr>\n",
       "    <tr>\n",
       "      <th>75%</th>\n",
       "      <td>718.00</td>\n",
       "      <td>149388.25</td>\n",
       "    </tr>\n",
       "    <tr>\n",
       "      <th>max</th>\n",
       "      <td>850.00</td>\n",
       "      <td>199992.48</td>\n",
       "    </tr>\n",
       "  </tbody>\n",
       "</table>\n",
       "</div>"
      ],
      "text/plain": [
       "       CreditScore  EstimatedSalary\n",
       "count     10000.00         10000.00\n",
       "mean        650.53        100090.24\n",
       "std          96.65         57510.49\n",
       "min         350.00            11.58\n",
       "25%         584.00         51002.11\n",
       "50%         652.00        100193.91\n",
       "75%         718.00        149388.25\n",
       "max         850.00        199992.48"
      ]
     },
     "execution_count": 70,
     "metadata": {},
     "output_type": "execute_result"
    }
   ],
   "source": [
    "data.describe()"
   ]
  },
  {
   "cell_type": "code",
   "execution_count": 71,
   "id": "92d695e7",
   "metadata": {},
   "outputs": [
    {
     "data": {
      "text/html": [
       "<div>\n",
       "<style scoped>\n",
       "    .dataframe tbody tr th:only-of-type {\n",
       "        vertical-align: middle;\n",
       "    }\n",
       "\n",
       "    .dataframe tbody tr th {\n",
       "        vertical-align: top;\n",
       "    }\n",
       "\n",
       "    .dataframe thead th {\n",
       "        text-align: right;\n",
       "    }\n",
       "</style>\n",
       "<table border=\"1\" class=\"dataframe\">\n",
       "  <thead>\n",
       "    <tr style=\"text-align: right;\">\n",
       "      <th></th>\n",
       "      <th>CreditScore</th>\n",
       "      <th>Tenure</th>\n",
       "      <th>EstimatedSalary</th>\n",
       "    </tr>\n",
       "  </thead>\n",
       "  <tbody>\n",
       "    <tr>\n",
       "      <th>count</th>\n",
       "      <td>10000.00</td>\n",
       "      <td>10000.00</td>\n",
       "      <td>10000.00</td>\n",
       "    </tr>\n",
       "    <tr>\n",
       "      <th>mean</th>\n",
       "      <td>0.60</td>\n",
       "      <td>0.50</td>\n",
       "      <td>0.50</td>\n",
       "    </tr>\n",
       "    <tr>\n",
       "      <th>std</th>\n",
       "      <td>0.19</td>\n",
       "      <td>0.29</td>\n",
       "      <td>0.29</td>\n",
       "    </tr>\n",
       "    <tr>\n",
       "      <th>min</th>\n",
       "      <td>0.00</td>\n",
       "      <td>0.00</td>\n",
       "      <td>0.00</td>\n",
       "    </tr>\n",
       "    <tr>\n",
       "      <th>25%</th>\n",
       "      <td>0.47</td>\n",
       "      <td>0.30</td>\n",
       "      <td>0.25</td>\n",
       "    </tr>\n",
       "    <tr>\n",
       "      <th>50%</th>\n",
       "      <td>0.60</td>\n",
       "      <td>0.50</td>\n",
       "      <td>0.50</td>\n",
       "    </tr>\n",
       "    <tr>\n",
       "      <th>75%</th>\n",
       "      <td>0.74</td>\n",
       "      <td>0.70</td>\n",
       "      <td>0.75</td>\n",
       "    </tr>\n",
       "    <tr>\n",
       "      <th>max</th>\n",
       "      <td>1.00</td>\n",
       "      <td>1.00</td>\n",
       "      <td>1.00</td>\n",
       "    </tr>\n",
       "  </tbody>\n",
       "</table>\n",
       "</div>"
      ],
      "text/plain": [
       "       CreditScore   Tenure  EstimatedSalary\n",
       "count     10000.00 10000.00         10000.00\n",
       "mean          0.60     0.50             0.50\n",
       "std           0.19     0.29             0.29\n",
       "min           0.00     0.00             0.00\n",
       "25%           0.47     0.30             0.25\n",
       "50%           0.60     0.50             0.50\n",
       "75%           0.74     0.70             0.75\n",
       "max           1.00     1.00             1.00"
      ]
     },
     "execution_count": 71,
     "metadata": {},
     "output_type": "execute_result"
    }
   ],
   "source": [
    "data['CreditScore'] = MinMaxScaler().fit_transform(data[['CreditScore']])\n",
    "data['EstimatedSalary'] = MinMaxScaler().fit_transform(data[['EstimatedSalary']])\n",
    "data['Tenure'] = MinMaxScaler().fit_transform(data[['Tenure']])\n",
    "\n",
    "data.describe()"
   ]
  },
  {
   "cell_type": "code",
   "execution_count": 72,
   "id": "8cb975a1",
   "metadata": {},
   "outputs": [],
   "source": [
    "## Split the dataset to X and y"
   ]
  },
  {
   "cell_type": "code",
   "execution_count": 73,
   "id": "8fb08f4c",
   "metadata": {},
   "outputs": [],
   "source": [
    "from sklearn.model_selection import train_test_split\n",
    "X = data.drop(columns =['Exited'])\n",
    "y = data['Exited']"
   ]
  },
  {
   "cell_type": "code",
   "execution_count": 74,
   "id": "87636d62",
   "metadata": {},
   "outputs": [
    {
     "name": "stdout",
     "output_type": "stream",
     "text": [
      "      CreditScore  Tenure HasCrCard IsActiveMember  EstimatedSalary  \\\n",
      "4792         0.81    0.40         1              1             0.67   \n",
      "8854         0.65    0.60         1              1             0.05   \n",
      "6250         0.52    1.00         1              0             0.19   \n",
      "5936         0.48    0.90         1              1             0.82   \n",
      "425          0.60    0.90         1              0             0.49   \n",
      "\n",
      "      Balance_range  Geography_France  Geography_Germany  Geography_Spain  \\\n",
      "4792  100001-150000             False              False             True   \n",
      "8854            NaN             False              False             True   \n",
      "6250  150001-200000              True              False            False   \n",
      "5936   50000-100000             False              False             True   \n",
      "425   150001-200000              True              False            False   \n",
      "\n",
      "      Gender_Female  ...  Age_range_36-45  Age_range_46-55  Age_range_56-65  \\\n",
      "4792          False  ...            False            False            False   \n",
      "8854           True  ...             True            False            False   \n",
      "6250          False  ...             True            False            False   \n",
      "5936           True  ...            False            False            False   \n",
      "425           False  ...            False            False            False   \n",
      "\n",
      "      Age_range_66-75  Age_range_76-100  Balance_More than Zero $  \\\n",
      "4792            False             False                      True   \n",
      "8854            False             False                     False   \n",
      "6250            False             False                      True   \n",
      "5936            False             False                      True   \n",
      "425             False             False                      True   \n",
      "\n",
      "      Balance_Zero $  n_product_range_More Than 2  \\\n",
      "4792           False                        False   \n",
      "8854            True                        False   \n",
      "6250           False                        False   \n",
      "5936           False                        False   \n",
      "425            False                        False   \n",
      "\n",
      "      n_product_range_One product  n_product_range_Two Products  \n",
      "4792                         True                         False  \n",
      "8854                        False                          True  \n",
      "6250                         True                         False  \n",
      "5936                         True                         False  \n",
      "425                          True                         False  \n",
      "\n",
      "[5 rows x 23 columns]\n",
      "4792    0\n",
      "8854    0\n",
      "6250    0\n",
      "5936    1\n",
      "425     0\n",
      "Name: Exited, dtype: object\n",
      "(6500, 23) (6500,)\n",
      "\n",
      "(3500, 23) (3500,)\n"
     ]
    }
   ],
   "source": [
    "X_train, X_test, y_train, y_test = train_test_split(X, y, test_size=0.35, random_state=42)\n",
    "print(X_train.head())\n",
    "print(y_train.head())\n",
    "print(X_train.shape, y_train.shape)\n",
    "print('')\n",
    "print(X_test.shape, y_test.shape)"
   ]
  },
  {
   "cell_type": "code",
   "execution_count": 75,
   "id": "189469e2",
   "metadata": {},
   "outputs": [],
   "source": [
    "## Now the data is Balance"
   ]
  },
  {
   "cell_type": "code",
   "execution_count": 76,
   "id": "20fb495a",
   "metadata": {},
   "outputs": [],
   "source": [
    "from sklearn.pipeline import Pipeline\n",
    "from sklearn.decomposition import PCA\n",
    "from sklearn.compose import ColumnTransformer\n",
    "from sklearn.preprocessing import MinMaxScaler, OneHotEncoder\n",
    "from sklearn.ensemble import RandomForestClassifier as RFC\n",
    "from sklearn.neighbors import KNeighborsClassifier as KNN\n",
    "from sklearn.svm import SVC\n",
    "from sklearn.metrics import accuracy_score, precision_score, f1_score, recall_score\n",
    "from sklearn.tree import DecisionTreeClassifier "
   ]
  },
  {
   "cell_type": "code",
   "execution_count": 77,
   "id": "057303a3",
   "metadata": {},
   "outputs": [],
   "source": [
    "# Balancing the data¶\n",
    "#Customers who do not churn rate are only about 20% Hence, we need to use the Over sampling method on this data\n",
    "# to make it Balance."
   ]
  },
  {
   "cell_type": "code",
   "execution_count": 78,
   "id": "06071a5c",
   "metadata": {},
   "outputs": [],
   "source": [
    "from imblearn.over_sampling import RandomOverSampler, SMOTE"
   ]
  },
  {
   "cell_type": "code",
   "execution_count": 79,
   "id": "61d7728a",
   "metadata": {},
   "outputs": [],
   "source": [
    "# RandomOverSampler"
   ]
  },
  {
   "cell_type": "code",
   "execution_count": 80,
   "id": "27ceee84",
   "metadata": {},
   "outputs": [
    {
     "name": "stdout",
     "output_type": "stream",
     "text": [
      "(10320, 23) (10320,)\n"
     ]
    }
   ],
   "source": [
    "X_train_ROS, y_train_ROS = RandomOverSampler(random_state = 42).fit_resample(X_train, y_train)\n",
    "print(X_train_ROS.shape, y_train_ROS.shape)"
   ]
  },
  {
   "cell_type": "code",
   "execution_count": 81,
   "id": "f353f506",
   "metadata": {},
   "outputs": [
    {
     "name": "stdout",
     "output_type": "stream",
     "text": [
      "Imbalance data value:\n",
      "\n",
      "          count\n",
      "Exited       \n",
      "0        5160\n",
      "1        1340\n",
      "-------------------------\n",
      "Balance data value: \n",
      "\n",
      "         count\n",
      "Exited       \n",
      "0        5160\n",
      "1        5160\n",
      "-------------------------\n"
     ]
    }
   ],
   "source": [
    "print('Imbalance data value:\\n\\n ',y_train.value_counts().to_frame())\n",
    "print('-'*25)\n",
    "print('Balance data value: \\n\\n', y_train_ROS.value_counts().to_frame())\n",
    "print('-'*25)"
   ]
  },
  {
   "cell_type": "code",
   "execution_count": 82,
   "id": "c01d11b1",
   "metadata": {},
   "outputs": [
    {
     "name": "stdout",
     "output_type": "stream",
     "text": [
      "DT Accuracy_SMOTE: 78.64999999999999\n",
      "----------------------------------------\n",
      "DT Precision_SMOTE: 46.909090909090914\n",
      "----------------------------------------\n",
      "DT Recall_SMOTE: 65.64885496183206\n",
      "----------------------------------------\n",
      "DT F1-Score_SMOTE: 54.718981972428416\n"
     ]
    }
   ],
   "source": [
    "#With Balance data (RandomOverSampler)\n",
    "from sklearn.tree import DecisionTreeClassifier  as DT\n",
    "from imblearn.over_sampling import SMOTE\n",
    "\n",
    "# Assuming 'data' is your DataFrame\n",
    "data = pd.read_csv('bank churn.csv')\n",
    "\n",
    "# Display first few rows of the dataset to verify loading\n",
    "data.head()\n",
    "\n",
    "# Replace missing values for numerical columns with mean\n",
    "# and for categorical columns with mode\n",
    "for column in data.columns:\n",
    "    if data[column].dtype == 'object' or data[column].dtype.name == 'category':\n",
    "        data[column].fillna(data[column].mode()[0], inplace=True)\n",
    "    else:\n",
    "        data[column].fillna(data[column].mean(), inplace=True)\n",
    "\n",
    "# Encode categorical columns\n",
    "label_encoders = {}\n",
    "for column in data.select_dtypes(include=['object', 'category']).columns:\n",
    "    le = LabelEncoder()\n",
    "    data[column] = le.fit_transform(data[column])\n",
    "    label_encoders[column] = le\n",
    "\n",
    "# Split the data into features and target variable\n",
    "# Assuming the last column is the target variable\n",
    "X = data.iloc[:, :-1]\n",
    "y = data.iloc[:, -1]\n",
    "\n",
    "# Split the data into train and test sets\n",
    "X_train, X_test, y_train, y_test = train_test_split(X, y, test_size=0.2, random_state=42)\n",
    "\n",
    "# Apply SMOTE to the training data\n",
    "smote = SMOTE(random_state=42)\n",
    "X_train_SMOTE, y_train_SMOTE = smote.fit_resample(X_train, y_train)\n",
    "\n",
    "# Define the steps of the pipeline\n",
    "steps_dt_SMOTE = [('Scaler', MinMaxScaler()),\n",
    "                  ('clf', DT(random_state=42, max_depth=8, min_samples_split=7, splitter='random'))]\n",
    "\n",
    "# Create the pipeline\n",
    "clf_dt_SMOTE = Pipeline(steps=steps_dt_SMOTE)\n",
    "\n",
    "# Fit the pipeline on the training data\n",
    "clf_dt_SMOTE.fit(X_train_SMOTE, y_train_SMOTE)\n",
    "\n",
    "# Predict on the test data\n",
    "y_pred_dt_SMOTE = clf_dt_SMOTE.predict(X_test)\n",
    "\n",
    "# Evaluate the model\n",
    "print('DT Accuracy_SMOTE:', accuracy_score(y_true=y_test, y_pred=y_pred_dt_SMOTE) * 100)\n",
    "print('-' * 40)\n",
    "print('DT Precision_SMOTE:', precision_score(y_true=y_test, y_pred=y_pred_dt_SMOTE, average='binary') * 100)\n",
    "print('-' * 40)\n",
    "print('DT Recall_SMOTE:', recall_score(y_true=y_test, y_pred=y_pred_dt_SMOTE, average='binary') * 100)\n",
    "print('-' * 40)\n",
    "print('DT F1-Score_SMOTE:', f1_score(y_true=y_test, y_pred=y_pred_dt_SMOTE, average='binary') * 100)\n",
    "\n"
   ]
  },
  {
   "cell_type": "code",
   "execution_count": 83,
   "id": "d70ff481",
   "metadata": {},
   "outputs": [
    {
     "name": "stdout",
     "output_type": "stream",
     "text": [
      "Error: Target column 'target' not found in the dataset.\n"
     ]
    }
   ],
   "source": [
    "\n",
    "# Load your dataset\n",
    "data = pd.read_csv('bank churn.csv')\n",
    "\n",
    "# Display first few rows of the dataset to verify loading\n",
    "data.head()\n",
    "\n",
    "# Replace missing values for numerical columns with mean\n",
    "# and for categorical columns with mode\n",
    "for column in data.columns:\n",
    "    if data[column].dtype == 'object' or data[column].dtype.name == 'category':\n",
    "        data[column].fillna(data[column].mode()[0], inplace=True)\n",
    "    else:\n",
    "        data[column].fillna(data[column].mean(), inplace=True)\n",
    "\n",
    "# Encode categorical columns\n",
    "label_encoders = {}\n",
    "for column in ['Geography', 'Gender', 'Age_range', 'n_product_range']:\n",
    "    if column in data.columns:\n",
    "        le = LabelEncoder()\n",
    "        data[column] = le.fit_transform(data[column])\n",
    "        label_encoders[column] = le\n",
    "\n",
    "# Assuming the target column is named 'target'\n",
    "target_column = 'target'  # Update this with the actual target column name\n",
    "\n",
    "# Check if target_column exists in the DataFrame\n",
    "if target_column not in data.columns:\n",
    "    print(f\"Error: Target column '{target_column}' not found in the dataset.\")\n",
    "else:\n",
    "    # Split the data into features and target variable\n",
    "    X = data.drop(target_column, axis=1)\n",
    "    y = data[target_column]\n",
    "\n",
    "    # Split the data into train and test sets\n",
    "    X_train, X_test, y_train, y_test = train_test_split(X, y, test_size=0.2, random_state=42)\n",
    "\n",
    "    # Apply SMOTE to the training data\n",
    "    smote = SMOTE(random_state=42)\n",
    "    X_train_SMOTE, y_train_SMOTE = smote.fit_resample(X_train, y_train)\n",
    "\n",
    "    # Define the steps of the pipeline\n",
    "    steps_dt_SMOTE = [('Scaler', MinMaxScaler()),\n",
    "                      ('clf', DT(random_state=42, max_depth=8, min_samples_split=7, splitter='random'))]\n",
    "\n",
    "    # Create the pipeline\n",
    "    clf_dt_SMOTE = Pipeline(steps=steps_dt_SMOTE)\n",
    "\n",
    "    # Fit the pipeline on the training data\n",
    "    clf_dt_SMOTE.fit(X_train_SMOTE, y_train_SMOTE)\n",
    "\n",
    "    # Predict on the test data\n",
    "    y_pred_dt_SMOTE = clf_dt_SMOTE.predict(X_test)\n",
    "\n",
    "    # Evaluate the model\n",
    "    print('DT Accuracy_SMOTE:', accuracy_score(y_true=y_test, y_pred=y_pred_dt_SMOTE) * 100)\n",
    "    print('-' * 40)\n",
    "    print('DT Precision_SMOTE:', precision_score(y_true=y_test, y_pred=y_pred_dt_SMOTE) * 100)\n",
    "    print('-' * 40)\n",
    "    print('DT Recall_SMOTE:', recall_score(y_true=y_test, y_pred=y_pred_dt_SMOTE) * 100)\n",
    "    print('-' * 40)\n",
    "    print('DT F1-Score_SMOTE:', f1_score(y_true=y_test, y_pred=y_pred_dt_SMOTE) * 100)\n"
   ]
  },
  {
   "cell_type": "code",
   "execution_count": 84,
   "id": "affa7164",
   "metadata": {},
   "outputs": [],
   "source": [
    "## RandomForestClassifier"
   ]
  },
  {
   "cell_type": "code",
   "execution_count": 85,
   "id": "2e087d84",
   "metadata": {},
   "outputs": [
    {
     "name": "stdout",
     "output_type": "stream",
     "text": [
      "{'max_depth': 10, 'min_samples_split': 2, 'n_estimators': 100}\n"
     ]
    }
   ],
   "source": [
    "from sklearn.ensemble import RandomForestClassifier\n",
    "from sklearn.model_selection import GridSearchCV\n",
    "\n",
    "# Create a random forest classifier\n",
    "rf = RandomForestClassifier()\n",
    "\n",
    "# Create a dictionary of hyperparameters to tune\n",
    "params = {\n",
    "    'n_estimators': [10, 100, 1000],\n",
    "    'max_depth': [3, 5, 10],\n",
    "    'min_samples_split': [2, 5, 10],\n",
    "}\n",
    "\n",
    "# Create a grid search object\n",
    "gscv = GridSearchCV(rf, params, scoring='accuracy', cv=5)\n",
    "\n",
    "# Fit the grid search object to the training data\n",
    "gscv.fit(X_train, y_train)\n",
    "\n",
    "# Print the best parameters\n",
    "print(gscv.best_params_)\n"
   ]
  },
  {
   "cell_type": "code",
   "execution_count": 86,
   "id": "eaa2a452",
   "metadata": {},
   "outputs": [
    {
     "name": "stdout",
     "output_type": "stream",
     "text": [
      "RF Accuracy: 86.15\n",
      "----------------------------------------\n",
      "RF precision_score: 80.85106382978722\n",
      "----------------------------------------\n",
      "RF recall_score: 38.67684478371501\n",
      "----------------------------------------\n",
      "RF f1_score: 52.3235800344234\n"
     ]
    }
   ],
   "source": [
    "#Imbalance data\n",
    "steps_rf = [('Scaler', MinMaxScaler()),\n",
    "            ('clf', RFC(n_estimators=100,max_depth=10, min_samples_split=10,))]\n",
    "\n",
    "\n",
    "clf_rf = Pipeline(steps=steps_rf)\n",
    "steps_rf = Pipeline(steps=steps_rf)\n",
    "\n",
    "\n",
    "steps_rf.fit(X_train, y_train)\n",
    "\n",
    "y_pred_rf = clf_rf.predict(X_test)\n",
    "print('RF Accuracy:', accuracy_score(y_true=y_test, y_pred=y_pred_rf)*100)\n",
    "print('-'*40)\n",
    "print('RF precision_score:', precision_score(y_true=y_test, y_pred=y_pred_rf)*100)\n",
    "print('-'*40)\n",
    "print('RF recall_score:', recall_score(y_true=y_test, y_pred=y_pred_rf)*100)\n",
    "print('-'*40)\n",
    "print('RF f1_score:', f1_score(y_true=y_test, y_pred=y_pred_rf)*100)\n"
   ]
  },
  {
   "cell_type": "code",
   "execution_count": 87,
   "id": "1684e49a",
   "metadata": {},
   "outputs": [
    {
     "name": "stdout",
     "output_type": "stream",
     "text": [
      "RF Accuracy: 81.5\n",
      "----------------------------------------\n",
      "RF precision_score: 52.27722772277228\n",
      "----------------------------------------\n",
      "RF recall_score: 67.17557251908397\n",
      "----------------------------------------\n",
      "RF f1_score: 58.79732739420936\n"
     ]
    }
   ],
   "source": [
    "#Balance data(SMOTE)\n",
    "steps_rf_SMOTE = [('Scaler', MinMaxScaler()),\n",
    "                  ('clf', RFC(n_estimators=100,max_depth=10, min_samples_split=10))]\n",
    "\n",
    "\n",
    "clf_rf_SMOTE = Pipeline(steps=steps_rf_SMOTE)\n",
    "steps_rf_SMOTE = Pipeline(steps=steps_rf_SMOTE)\n",
    "\n",
    "\n",
    "steps_rf_SMOTE.fit(X_train_SMOTE, y_train_SMOTE)\n",
    "\n",
    "y_pred_rf_SMOTE = clf_rf_SMOTE.predict(X_test)\n",
    "print('RF Accuracy:', accuracy_score(y_true=y_test, y_pred=y_pred_rf_SMOTE)*100)\n",
    "print('-'*40)\n",
    "print('RF precision_score:', precision_score(y_true=y_test, y_pred=y_pred_rf_SMOTE)*100)\n",
    "print('-'*40)\n",
    "print('RF recall_score:', recall_score(y_true=y_test, y_pred=y_pred_rf_SMOTE)*100)\n",
    "print('-'*40)\n",
    "print('RF f1_score:', f1_score(y_true=y_test, y_pred=y_pred_rf_SMOTE)*100)"
   ]
  },
  {
   "cell_type": "code",
   "execution_count": 88,
   "id": "abf1d321",
   "metadata": {},
   "outputs": [
    {
     "name": "stdout",
     "output_type": "stream",
     "text": [
      "KNN (Balanced Data) Accuracy: 0.8025\n",
      "KNN (Balanced Data) Precision: 0.7658358253588518\n",
      "KNN (Balanced Data) Recall: 0.8025\n",
      "KNN (Balanced Data) F1-score: 0.7710852590282236\n"
     ]
    }
   ],
   "source": [
    "# K-NN Algorithm\n",
    "# for balnced dataset\n",
    "from sklearn.pipeline import Pipeline\n",
    "from sklearn.preprocessing import MinMaxScaler\n",
    "from sklearn.neighbors import KNeighborsClassifier\n",
    "from sklearn.metrics import accuracy_score, precision_score, recall_score, f1_score\n",
    "from sklearn.model_selection import train_test_split\n",
    "\n",
    "# Assuming 'X_train_bal', 'X_test_bal', 'y_train_bal', 'y_test_bal' are obtained from data balancing techniques\n",
    "\n",
    "# Initialize the KNN model\n",
    "knn_bal = KNeighborsClassifier()\n",
    "\n",
    "# Define the steps for the KNN pipeline\n",
    "steps_knn_bal = [('Scaler', MinMaxScaler()), ('clf', knn_bal)]\n",
    "\n",
    "# Create the pipeline\n",
    "clf_knn_bal = Pipeline(steps=steps_knn_bal)\n",
    "\n",
    "# Fit the pipeline on the balanced training data\n",
    "clf_knn_bal.fit(X_train, y_train)\n",
    "                # Predict on the balanced test data\n",
    "y_pred_knn_bal = clf_knn_bal.predict(X_test)\n",
    "\n",
    "# Evaluate the model\n",
    "print('KNN (Balanced Data) Accuracy:', accuracy_score(y_true=y_test, y_pred=y_pred_knn_bal))\n",
    "print('KNN (Balanced Data) Precision:', precision_score(y_true=y_test, y_pred=y_pred_knn_bal, average='weighted'))\n",
    "print('KNN (Balanced Data) Recall:', recall_score(y_true=y_test, y_pred=y_pred_knn_bal, average='weighted'))\n",
    "print('KNN (Balanced Data) F1-score:', f1_score(y_true=y_test, y_pred=y_pred_knn_bal, average='weighted'))\n",
    "\n"
   ]
  },
  {
   "cell_type": "code",
   "execution_count": 89,
   "id": "a24514d2",
   "metadata": {},
   "outputs": [
    {
     "name": "stdout",
     "output_type": "stream",
     "text": [
      "KNN (Imbalanced Data) Accuracy: 80.25\n",
      "KNN (Imbalanced Data) Precision: 76.58358253588517\n",
      "KNN (Imbalanced Data) Recall: 80.25\n",
      "KNN (Imbalanced Data) F1-score: 77.10852590282235\n"
     ]
    }
   ],
   "source": [
    "## for imbalanced data\n",
    "# Assuming 'X_train_imbal', 'X_test_imbal', 'y_train_imbal', 'y_test_imbal' are the original (imbalanced) dataset\n",
    "\n",
    "# Initialize the KNN model\n",
    "knn_imbal = KNeighborsClassifier()\n",
    "\n",
    "# Define the steps for the KNN pipeline\n",
    "steps_knn_imbal = [('Scaler', MinMaxScaler()), ('clf', knn_imbal)]\n",
    "\n",
    "# Create the pipeline\n",
    "clf_knn_imbal = Pipeline(steps=steps_knn_imbal)\n",
    "\n",
    "# Fit the pipeline on the original (imbalanced) training data\n",
    "clf_knn_imbal.fit(X_train, y_train)\n",
    "\n",
    "# Predict on the original (imbalanced) test data\n",
    "y_pred_knn_imbal = clf_knn_imbal.predict(X_test)\n",
    "\n",
    "# Evaluate the model\n",
    "print('KNN (Imbalanced Data) Accuracy:', accuracy_score(y_true=y_test, y_pred=y_pred_knn_imbal) * 100)\n",
    "print('KNN (Imbalanced Data) Precision:', precision_score(y_true=y_test, y_pred=y_pred_knn_imbal, average='weighted') * 100)\n",
    "print('KNN (Imbalanced Data) Recall:', recall_score(y_true=y_test, y_pred=y_pred_knn_imbal, average='weighted') * 100)\n",
    "print('KNN (Imbalanced Data) F1-score:', f1_score(y_true=y_test, y_pred=y_pred_knn_imbal, average='weighted') * 100)\n"
   ]
  },
  {
   "cell_type": "code",
   "execution_count": 90,
   "id": "4de3c407",
   "metadata": {},
   "outputs": [
    {
     "name": "stdout",
     "output_type": "stream",
     "text": [
      "Logistic Regression (Balanced Data) Accuracy: 81.35\n",
      "Logistic Regression (Balanced Data) Precision: 78.01702501202502\n",
      "Logistic Regression (Balanced Data) Recall: 81.35\n",
      "Logistic Regression (Balanced Data) F1-score: 76.85816851820164\n"
     ]
    }
   ],
   "source": [
    "# Logistic Regression model\n",
    "from sklearn.linear_model import LogisticRegression\n",
    "from sklearn.metrics import accuracy_score, precision_score, recall_score, f1_score\n",
    "from sklearn.model_selection import train_test_split\n",
    "\n",
    "# Assuming 'X_train_bal', 'X_test_bal', 'y_train_bal', 'y_test_bal' are obtained from data balancing techniques\n",
    "\n",
    "# Initialize the Logistic Regression model\n",
    "log_reg_bal = LogisticRegression()\n",
    "\n",
    "# Define the steps for the Logistic Regression pipeline\n",
    "steps_log_reg_bal = [('Scaler', MinMaxScaler()), ('clf', log_reg_bal)]\n",
    "\n",
    "# Create the pipeline\n",
    "clf_log_reg_bal = Pipeline(steps=steps_log_reg_bal)\n",
    "\n",
    "# Fit the pipeline on the balanced training data\n",
    "clf_log_reg_bal.fit(X_train, y_train)\n",
    "\n",
    "# Predict on the balanced test data\n",
    "y_pred_log_reg_bal = clf_log_reg_bal.predict(X_test)\n",
    "\n",
    "# Evaluate the model\n",
    "print('Logistic Regression (Balanced Data) Accuracy:', accuracy_score(y_true=y_test, y_pred=y_pred_log_reg_bal) * 100)\n",
    "print('Logistic Regression (Balanced Data) Precision:', precision_score(y_true=y_test, y_pred=y_pred_log_reg_bal, average='weighted') * 100)\n",
    "print('Logistic Regression (Balanced Data) Recall:', recall_score(y_true=y_test, y_pred=y_pred_log_reg_bal, average='weighted') * 100)\n",
    "print('Logistic Regression (Balanced Data) F1-score:', f1_score(y_true=y_test, y_pred=y_pred_log_reg_bal, average='weighted') * 100)\n"
   ]
  },
  {
   "cell_type": "code",
   "execution_count": 91,
   "id": "05f9e07e",
   "metadata": {},
   "outputs": [
    {
     "name": "stdout",
     "output_type": "stream",
     "text": [
      "Logistic Regression (Imbalanced Data) Accuracy: 81.35\n",
      "Logistic Regression (Imbalanced Data) Precision: 78.01702501202502\n",
      "Logistic Regression (Imbalanced Data) Recall: 81.35\n",
      "Logistic Regression (Imbalanced Data) F1-score: 76.85816851820164\n"
     ]
    }
   ],
   "source": [
    "# Assuming 'X_train_imbal', 'X_test_imbal', 'y_train_imbal', 'y_test_imbal' are the original (imbalanced) dataset\n",
    "\n",
    "# Initialize the Logistic Regression model\n",
    "log_reg_imbal = LogisticRegression()\n",
    "\n",
    "# Define the steps for the Logistic Regression pipeline\n",
    "steps_log_reg_imbal = [('Scaler', MinMaxScaler()), ('clf', log_reg_imbal)]\n",
    "\n",
    "# Create the pipeline\n",
    "clf_log_reg_imbal = Pipeline(steps=steps_log_reg_imbal)\n",
    "\n",
    "# Fit the pipeline on the original (imbalanced) training data\n",
    "clf_log_reg_imbal.fit(X_train, y_train)\n",
    "\n",
    "# Predict on the original (imbalanced) test data\n",
    "y_pred_log_reg_imbal = clf_log_reg_imbal.predict(X_test)\n",
    "\n",
    "# Evaluate the model\n",
    "print('Logistic Regression (Imbalanced Data) Accuracy:', accuracy_score(y_true=y_test, y_pred=y_pred_log_reg_imbal) * 100)\n",
    "print('Logistic Regression (Imbalanced Data) Precision:', precision_score(y_true=y_test, y_pred=y_pred_log_reg_imbal, average='weighted') * 100)\n",
    "print('Logistic Regression (Imbalanced Data) Recall:', recall_score(y_true=y_test, y_pred=y_pred_log_reg_imbal, average='weighted') * 100)\n",
    "print('Logistic Regression (Imbalanced Data) F1-score:', f1_score(y_true=y_test, y_pred=y_pred_log_reg_imbal, average='weighted') * 100)\n"
   ]
  },
  {
   "cell_type": "code",
   "execution_count": 92,
   "id": "4e38aded",
   "metadata": {},
   "outputs": [],
   "source": [
    "#Data Pre-Processing:\n",
    "#We will first convert the categorical features into numerical to apply models efficiently. \n",
    "#We will do this with help of LabelEncoder. Then we apply LazyClassifier,\n",
    "#and compare every model based on the Time Taken and Accuracy of each model."
   ]
  },
  {
   "cell_type": "code",
   "execution_count": 93,
   "id": "e90a76a4",
   "metadata": {},
   "outputs": [],
   "source": [
    "#Convering Categorical Features into numerical features using LabelEncoder\n",
    "data['Geography'] = LabelEncoder().fit_transform(data['Geography'])\n",
    "data['Gender'] = LabelEncoder().fit_transform(data['Gender'])"
   ]
  },
  {
   "cell_type": "code",
   "execution_count": 94,
   "id": "2114ee41",
   "metadata": {},
   "outputs": [],
   "source": [
    "X = data.copy()\n",
    "X.drop('Exited', axis=1, inplace=True)\n",
    "y = data['Exited']\n",
    "\n",
    "# Convert categorical variables to numeric using one-hot encoding\n",
    "X = pd.get_dummies(X, drop_first=True)\n",
    "\n",
    "# Proceed with the original train-test split\n",
    "X_train, X_test, y_train, y_test = train_test_split(X, y, test_size=0.2, random_state=0)\n",
    "\n",
    "# Standardize the features\n",
    "ss = StandardScaler()\n",
    "X_train = ss.fit_transform(X_train)\n",
    "X_test = ss.transform(X_test)"
   ]
  },
  {
   "cell_type": "code",
   "execution_count": 95,
   "id": "a2217bd0",
   "metadata": {},
   "outputs": [],
   "source": [
    "## Model Implementation "
   ]
  },
  {
   "cell_type": "code",
   "execution_count": 96,
   "id": "2dc7ebd2",
   "metadata": {},
   "outputs": [
    {
     "name": "stderr",
     "output_type": "stream",
     "text": [
      " 97%|███████████████████████████████████████████████████████████████████████████████▏  | 28/29 [13:51<00:31, 31.59s/it]"
     ]
    },
    {
     "name": "stdout",
     "output_type": "stream",
     "text": [
      "[LightGBM] [Info] Number of positive: 1632, number of negative: 6368\n",
      "[LightGBM] [Info] Auto-choosing row-wise multi-threading, the overhead of testing was 0.001766 seconds.\n",
      "You can set `force_row_wise=true` to remove the overhead.\n",
      "And if memory is not enough, you can set `force_col_wise=true`.\n",
      "[LightGBM] [Info] Total Bins 1400\n",
      "[LightGBM] [Info] Number of data points in the train set: 8000, number of used features: 22\n",
      "[LightGBM] [Info] [binary:BoostFromScore]: pavg=0.204000 -> initscore=-1.361479\n",
      "[LightGBM] [Info] Start training from score -1.361479\n"
     ]
    },
    {
     "name": "stderr",
     "output_type": "stream",
     "text": [
      "100%|██████████████████████████████████████████████████████████████████████████████████| 29/29 [13:55<00:00, 28.82s/it]\n"
     ]
    }
   ],
   "source": [
    "clf = LazyClassifier(verbose=0, ignore_warnings=True, custom_metric = None,classifiers = 'all')\n",
    "models,predictions = clf.fit(X_train, X_test, y_train, y_test)"
   ]
  },
  {
   "cell_type": "code",
   "execution_count": 97,
   "id": "e90d7a2a",
   "metadata": {},
   "outputs": [
    {
     "name": "stdout",
     "output_type": "stream",
     "text": [
      "                               Accuracy  Balanced Accuracy  ROC AUC  F1 Score  \\\n",
      "Model                                                                           \n",
      "XGBClassifier                      0.86               0.74     0.74      0.85   \n",
      "AdaBoostClassifier                 0.86               0.74     0.74      0.85   \n",
      "LGBMClassifier                     0.86               0.73     0.73      0.85   \n",
      "DecisionTreeClassifier             0.82               0.71     0.71      0.82   \n",
      "BaggingClassifier                  0.85               0.71     0.71      0.84   \n",
      "RandomForestClassifier             0.86               0.68     0.68      0.84   \n",
      "ExtraTreesClassifier               0.85               0.65     0.65      0.82   \n",
      "NearestCentroid                    0.72               0.60     0.60      0.73   \n",
      "ExtraTreeClassifier                0.77               0.60     0.60      0.75   \n",
      "LinearSVC                          0.75               0.56     0.56      0.73   \n",
      "LogisticRegression                 0.77               0.55     0.55      0.74   \n",
      "Perceptron                         0.72               0.54     0.54      0.71   \n",
      "SGDClassifier                      0.74               0.54     0.54      0.72   \n",
      "BernoulliNB                        0.80               0.54     0.54      0.74   \n",
      "PassiveAggressiveClassifier        0.72               0.53     0.53      0.71   \n",
      "RidgeClassifier                    0.77               0.53     0.53      0.73   \n",
      "RidgeClassifierCV                  0.77               0.53     0.53      0.73   \n",
      "LabelPropagation                   0.72               0.51     0.51      0.70   \n",
      "LabelSpreading                     0.72               0.51     0.51      0.70   \n",
      "KNeighborsClassifier               0.78               0.50     0.50      0.71   \n",
      "SVC                                0.79               0.50     0.50      0.71   \n",
      "DummyClassifier                    0.80               0.50     0.50      0.71   \n",
      "CalibratedClassifierCV             0.80               0.50     0.50      0.71   \n",
      "QuadraticDiscriminantAnalysis      0.79               0.50     0.50      0.71   \n",
      "GaussianNB                         0.35               0.50     0.50      0.37   \n",
      "\n",
      "                               Time Taken  \n",
      "Model                                      \n",
      "XGBClassifier                        6.73  \n",
      "AdaBoostClassifier                  17.79  \n",
      "LGBMClassifier                       4.29  \n",
      "DecisionTreeClassifier               4.70  \n",
      "BaggingClassifier                   17.14  \n",
      "RandomForestClassifier              21.77  \n",
      "ExtraTreesClassifier                32.69  \n",
      "NearestCentroid                      2.39  \n",
      "ExtraTreeClassifier                  2.55  \n",
      "LinearSVC                           74.13  \n",
      "LogisticRegression                   3.73  \n",
      "Perceptron                           2.60  \n",
      "SGDClassifier                       13.13  \n",
      "BernoulliNB                          3.01  \n",
      "PassiveAggressiveClassifier          4.10  \n",
      "RidgeClassifier                      4.42  \n",
      "RidgeClassifierCV                   27.54  \n",
      "LabelPropagation                    12.61  \n",
      "LabelSpreading                      13.92  \n",
      "KNeighborsClassifier                 3.93  \n",
      "SVC                                147.97  \n",
      "DummyClassifier                      1.95  \n",
      "CalibratedClassifierCV             348.19  \n",
      "QuadraticDiscriminantAnalysis       30.99  \n",
      "GaussianNB                           2.74  \n"
     ]
    }
   ],
   "source": [
    "print(models)"
   ]
  },
  {
   "cell_type": "code",
   "execution_count": 98,
   "id": "399beee3",
   "metadata": {},
   "outputs": [
    {
     "data": {
      "application/vnd.plotly.v1+json": {
       "config": {
        "plotlyServerURL": "https://plot.ly"
       },
       "data": [
        {
         "hovertemplate": "variable=Accuracy<br>Model=%{x}<br>value=%{y}<extra></extra>",
         "legendgroup": "Accuracy",
         "line": {
          "color": "red",
          "dash": "solid"
         },
         "marker": {
          "symbol": "circle"
         },
         "mode": "lines+markers",
         "name": "Accuracy",
         "orientation": "v",
         "showlegend": true,
         "type": "scatter",
         "x": [
          "RandomForestClassifier",
          "XGBClassifier",
          "LGBMClassifier",
          "AdaBoostClassifier",
          "BaggingClassifier",
          "ExtraTreesClassifier",
          "DecisionTreeClassifier",
          "BernoulliNB",
          "DummyClassifier",
          "CalibratedClassifierCV",
          "SVC",
          "QuadraticDiscriminantAnalysis",
          "KNeighborsClassifier",
          "LogisticRegression",
          "RidgeClassifier",
          "RidgeClassifierCV",
          "ExtraTreeClassifier",
          "LinearSVC",
          "SGDClassifier",
          "PassiveAggressiveClassifier",
          "LabelPropagation",
          "LabelSpreading",
          "Perceptron",
          "NearestCentroid",
          "GaussianNB"
         ],
         "xaxis": "x",
         "y": [
          0.8615,
          0.8575,
          0.8565,
          0.8565,
          0.8535,
          0.8495,
          0.8225,
          0.798,
          0.7975,
          0.797,
          0.7865,
          0.7855,
          0.7775,
          0.7695,
          0.7665,
          0.766,
          0.7655,
          0.75,
          0.7395,
          0.7205,
          0.7195,
          0.719,
          0.719,
          0.716,
          0.3525
         ],
         "yaxis": "y"
        }
       ],
       "layout": {
        "legend": {
         "title": {
          "text": "variable"
         },
         "tracegroupgap": 0
        },
        "margin": {
         "t": 60
        },
        "showlegend": true,
        "template": {
         "data": {
          "bar": [
           {
            "error_x": {
             "color": "#2a3f5f"
            },
            "error_y": {
             "color": "#2a3f5f"
            },
            "marker": {
             "line": {
              "color": "#E5ECF6",
              "width": 0.5
             },
             "pattern": {
              "fillmode": "overlay",
              "size": 10,
              "solidity": 0.2
             }
            },
            "type": "bar"
           }
          ],
          "barpolar": [
           {
            "marker": {
             "line": {
              "color": "#E5ECF6",
              "width": 0.5
             },
             "pattern": {
              "fillmode": "overlay",
              "size": 10,
              "solidity": 0.2
             }
            },
            "type": "barpolar"
           }
          ],
          "carpet": [
           {
            "aaxis": {
             "endlinecolor": "#2a3f5f",
             "gridcolor": "white",
             "linecolor": "white",
             "minorgridcolor": "white",
             "startlinecolor": "#2a3f5f"
            },
            "baxis": {
             "endlinecolor": "#2a3f5f",
             "gridcolor": "white",
             "linecolor": "white",
             "minorgridcolor": "white",
             "startlinecolor": "#2a3f5f"
            },
            "type": "carpet"
           }
          ],
          "choropleth": [
           {
            "colorbar": {
             "outlinewidth": 0,
             "ticks": ""
            },
            "type": "choropleth"
           }
          ],
          "contour": [
           {
            "colorbar": {
             "outlinewidth": 0,
             "ticks": ""
            },
            "colorscale": [
             [
              0,
              "#0d0887"
             ],
             [
              0.1111111111111111,
              "#46039f"
             ],
             [
              0.2222222222222222,
              "#7201a8"
             ],
             [
              0.3333333333333333,
              "#9c179e"
             ],
             [
              0.4444444444444444,
              "#bd3786"
             ],
             [
              0.5555555555555556,
              "#d8576b"
             ],
             [
              0.6666666666666666,
              "#ed7953"
             ],
             [
              0.7777777777777778,
              "#fb9f3a"
             ],
             [
              0.8888888888888888,
              "#fdca26"
             ],
             [
              1,
              "#f0f921"
             ]
            ],
            "type": "contour"
           }
          ],
          "contourcarpet": [
           {
            "colorbar": {
             "outlinewidth": 0,
             "ticks": ""
            },
            "type": "contourcarpet"
           }
          ],
          "heatmap": [
           {
            "colorbar": {
             "outlinewidth": 0,
             "ticks": ""
            },
            "colorscale": [
             [
              0,
              "#0d0887"
             ],
             [
              0.1111111111111111,
              "#46039f"
             ],
             [
              0.2222222222222222,
              "#7201a8"
             ],
             [
              0.3333333333333333,
              "#9c179e"
             ],
             [
              0.4444444444444444,
              "#bd3786"
             ],
             [
              0.5555555555555556,
              "#d8576b"
             ],
             [
              0.6666666666666666,
              "#ed7953"
             ],
             [
              0.7777777777777778,
              "#fb9f3a"
             ],
             [
              0.8888888888888888,
              "#fdca26"
             ],
             [
              1,
              "#f0f921"
             ]
            ],
            "type": "heatmap"
           }
          ],
          "heatmapgl": [
           {
            "colorbar": {
             "outlinewidth": 0,
             "ticks": ""
            },
            "colorscale": [
             [
              0,
              "#0d0887"
             ],
             [
              0.1111111111111111,
              "#46039f"
             ],
             [
              0.2222222222222222,
              "#7201a8"
             ],
             [
              0.3333333333333333,
              "#9c179e"
             ],
             [
              0.4444444444444444,
              "#bd3786"
             ],
             [
              0.5555555555555556,
              "#d8576b"
             ],
             [
              0.6666666666666666,
              "#ed7953"
             ],
             [
              0.7777777777777778,
              "#fb9f3a"
             ],
             [
              0.8888888888888888,
              "#fdca26"
             ],
             [
              1,
              "#f0f921"
             ]
            ],
            "type": "heatmapgl"
           }
          ],
          "histogram": [
           {
            "marker": {
             "pattern": {
              "fillmode": "overlay",
              "size": 10,
              "solidity": 0.2
             }
            },
            "type": "histogram"
           }
          ],
          "histogram2d": [
           {
            "colorbar": {
             "outlinewidth": 0,
             "ticks": ""
            },
            "colorscale": [
             [
              0,
              "#0d0887"
             ],
             [
              0.1111111111111111,
              "#46039f"
             ],
             [
              0.2222222222222222,
              "#7201a8"
             ],
             [
              0.3333333333333333,
              "#9c179e"
             ],
             [
              0.4444444444444444,
              "#bd3786"
             ],
             [
              0.5555555555555556,
              "#d8576b"
             ],
             [
              0.6666666666666666,
              "#ed7953"
             ],
             [
              0.7777777777777778,
              "#fb9f3a"
             ],
             [
              0.8888888888888888,
              "#fdca26"
             ],
             [
              1,
              "#f0f921"
             ]
            ],
            "type": "histogram2d"
           }
          ],
          "histogram2dcontour": [
           {
            "colorbar": {
             "outlinewidth": 0,
             "ticks": ""
            },
            "colorscale": [
             [
              0,
              "#0d0887"
             ],
             [
              0.1111111111111111,
              "#46039f"
             ],
             [
              0.2222222222222222,
              "#7201a8"
             ],
             [
              0.3333333333333333,
              "#9c179e"
             ],
             [
              0.4444444444444444,
              "#bd3786"
             ],
             [
              0.5555555555555556,
              "#d8576b"
             ],
             [
              0.6666666666666666,
              "#ed7953"
             ],
             [
              0.7777777777777778,
              "#fb9f3a"
             ],
             [
              0.8888888888888888,
              "#fdca26"
             ],
             [
              1,
              "#f0f921"
             ]
            ],
            "type": "histogram2dcontour"
           }
          ],
          "mesh3d": [
           {
            "colorbar": {
             "outlinewidth": 0,
             "ticks": ""
            },
            "type": "mesh3d"
           }
          ],
          "parcoords": [
           {
            "line": {
             "colorbar": {
              "outlinewidth": 0,
              "ticks": ""
             }
            },
            "type": "parcoords"
           }
          ],
          "pie": [
           {
            "automargin": true,
            "type": "pie"
           }
          ],
          "scatter": [
           {
            "fillpattern": {
             "fillmode": "overlay",
             "size": 10,
             "solidity": 0.2
            },
            "type": "scatter"
           }
          ],
          "scatter3d": [
           {
            "line": {
             "colorbar": {
              "outlinewidth": 0,
              "ticks": ""
             }
            },
            "marker": {
             "colorbar": {
              "outlinewidth": 0,
              "ticks": ""
             }
            },
            "type": "scatter3d"
           }
          ],
          "scattercarpet": [
           {
            "marker": {
             "colorbar": {
              "outlinewidth": 0,
              "ticks": ""
             }
            },
            "type": "scattercarpet"
           }
          ],
          "scattergeo": [
           {
            "marker": {
             "colorbar": {
              "outlinewidth": 0,
              "ticks": ""
             }
            },
            "type": "scattergeo"
           }
          ],
          "scattergl": [
           {
            "marker": {
             "colorbar": {
              "outlinewidth": 0,
              "ticks": ""
             }
            },
            "type": "scattergl"
           }
          ],
          "scattermapbox": [
           {
            "marker": {
             "colorbar": {
              "outlinewidth": 0,
              "ticks": ""
             }
            },
            "type": "scattermapbox"
           }
          ],
          "scatterpolar": [
           {
            "marker": {
             "colorbar": {
              "outlinewidth": 0,
              "ticks": ""
             }
            },
            "type": "scatterpolar"
           }
          ],
          "scatterpolargl": [
           {
            "marker": {
             "colorbar": {
              "outlinewidth": 0,
              "ticks": ""
             }
            },
            "type": "scatterpolargl"
           }
          ],
          "scatterternary": [
           {
            "marker": {
             "colorbar": {
              "outlinewidth": 0,
              "ticks": ""
             }
            },
            "type": "scatterternary"
           }
          ],
          "surface": [
           {
            "colorbar": {
             "outlinewidth": 0,
             "ticks": ""
            },
            "colorscale": [
             [
              0,
              "#0d0887"
             ],
             [
              0.1111111111111111,
              "#46039f"
             ],
             [
              0.2222222222222222,
              "#7201a8"
             ],
             [
              0.3333333333333333,
              "#9c179e"
             ],
             [
              0.4444444444444444,
              "#bd3786"
             ],
             [
              0.5555555555555556,
              "#d8576b"
             ],
             [
              0.6666666666666666,
              "#ed7953"
             ],
             [
              0.7777777777777778,
              "#fb9f3a"
             ],
             [
              0.8888888888888888,
              "#fdca26"
             ],
             [
              1,
              "#f0f921"
             ]
            ],
            "type": "surface"
           }
          ],
          "table": [
           {
            "cells": {
             "fill": {
              "color": "#EBF0F8"
             },
             "line": {
              "color": "white"
             }
            },
            "header": {
             "fill": {
              "color": "#C8D4E3"
             },
             "line": {
              "color": "white"
             }
            },
            "type": "table"
           }
          ]
         },
         "layout": {
          "annotationdefaults": {
           "arrowcolor": "#2a3f5f",
           "arrowhead": 0,
           "arrowwidth": 1
          },
          "autotypenumbers": "strict",
          "coloraxis": {
           "colorbar": {
            "outlinewidth": 0,
            "ticks": ""
           }
          },
          "colorscale": {
           "diverging": [
            [
             0,
             "#8e0152"
            ],
            [
             0.1,
             "#c51b7d"
            ],
            [
             0.2,
             "#de77ae"
            ],
            [
             0.3,
             "#f1b6da"
            ],
            [
             0.4,
             "#fde0ef"
            ],
            [
             0.5,
             "#f7f7f7"
            ],
            [
             0.6,
             "#e6f5d0"
            ],
            [
             0.7,
             "#b8e186"
            ],
            [
             0.8,
             "#7fbc41"
            ],
            [
             0.9,
             "#4d9221"
            ],
            [
             1,
             "#276419"
            ]
           ],
           "sequential": [
            [
             0,
             "#0d0887"
            ],
            [
             0.1111111111111111,
             "#46039f"
            ],
            [
             0.2222222222222222,
             "#7201a8"
            ],
            [
             0.3333333333333333,
             "#9c179e"
            ],
            [
             0.4444444444444444,
             "#bd3786"
            ],
            [
             0.5555555555555556,
             "#d8576b"
            ],
            [
             0.6666666666666666,
             "#ed7953"
            ],
            [
             0.7777777777777778,
             "#fb9f3a"
            ],
            [
             0.8888888888888888,
             "#fdca26"
            ],
            [
             1,
             "#f0f921"
            ]
           ],
           "sequentialminus": [
            [
             0,
             "#0d0887"
            ],
            [
             0.1111111111111111,
             "#46039f"
            ],
            [
             0.2222222222222222,
             "#7201a8"
            ],
            [
             0.3333333333333333,
             "#9c179e"
            ],
            [
             0.4444444444444444,
             "#bd3786"
            ],
            [
             0.5555555555555556,
             "#d8576b"
            ],
            [
             0.6666666666666666,
             "#ed7953"
            ],
            [
             0.7777777777777778,
             "#fb9f3a"
            ],
            [
             0.8888888888888888,
             "#fdca26"
            ],
            [
             1,
             "#f0f921"
            ]
           ]
          },
          "colorway": [
           "#636efa",
           "#EF553B",
           "#00cc96",
           "#ab63fa",
           "#FFA15A",
           "#19d3f3",
           "#FF6692",
           "#B6E880",
           "#FF97FF",
           "#FECB52"
          ],
          "font": {
           "color": "#2a3f5f"
          },
          "geo": {
           "bgcolor": "white",
           "lakecolor": "white",
           "landcolor": "#E5ECF6",
           "showlakes": true,
           "showland": true,
           "subunitcolor": "white"
          },
          "hoverlabel": {
           "align": "left"
          },
          "hovermode": "closest",
          "mapbox": {
           "style": "light"
          },
          "paper_bgcolor": "white",
          "plot_bgcolor": "#E5ECF6",
          "polar": {
           "angularaxis": {
            "gridcolor": "white",
            "linecolor": "white",
            "ticks": ""
           },
           "bgcolor": "#E5ECF6",
           "radialaxis": {
            "gridcolor": "white",
            "linecolor": "white",
            "ticks": ""
           }
          },
          "scene": {
           "xaxis": {
            "backgroundcolor": "#E5ECF6",
            "gridcolor": "white",
            "gridwidth": 2,
            "linecolor": "white",
            "showbackground": true,
            "ticks": "",
            "zerolinecolor": "white"
           },
           "yaxis": {
            "backgroundcolor": "#E5ECF6",
            "gridcolor": "white",
            "gridwidth": 2,
            "linecolor": "white",
            "showbackground": true,
            "ticks": "",
            "zerolinecolor": "white"
           },
           "zaxis": {
            "backgroundcolor": "#E5ECF6",
            "gridcolor": "white",
            "gridwidth": 2,
            "linecolor": "white",
            "showbackground": true,
            "ticks": "",
            "zerolinecolor": "white"
           }
          },
          "shapedefaults": {
           "line": {
            "color": "#2a3f5f"
           }
          },
          "ternary": {
           "aaxis": {
            "gridcolor": "white",
            "linecolor": "white",
            "ticks": ""
           },
           "baxis": {
            "gridcolor": "white",
            "linecolor": "white",
            "ticks": ""
           },
           "bgcolor": "#E5ECF6",
           "caxis": {
            "gridcolor": "white",
            "linecolor": "white",
            "ticks": ""
           }
          },
          "title": {
           "x": 0.05
          },
          "xaxis": {
           "automargin": true,
           "gridcolor": "white",
           "linecolor": "white",
           "ticks": "",
           "title": {
            "standoff": 15
           },
           "zerolinecolor": "white",
           "zerolinewidth": 2
          },
          "yaxis": {
           "automargin": true,
           "gridcolor": "white",
           "linecolor": "white",
           "ticks": "",
           "title": {
            "standoff": 15
           },
           "zerolinecolor": "white",
           "zerolinewidth": 2
          }
         }
        },
        "title": {
         "text": "Accuracy vs Model"
        },
        "xaxis": {
         "anchor": "y",
         "domain": [
          0,
          1
         ],
         "rangeslider": {
          "visible": false
         },
         "title": {
          "text": "Model"
         }
        },
        "yaxis": {
         "anchor": "x",
         "domain": [
          0,
          1
         ],
         "title": {
          "text": "Accuracy"
         }
        }
       }
      },
      "text/html": [
       "<div>                            <div id=\"76d6f720-e13b-4927-ac29-51fd736cd284\" class=\"plotly-graph-div\" style=\"height:525px; width:100%;\"></div>            <script type=\"text/javascript\">                require([\"plotly\"], function(Plotly) {                    window.PLOTLYENV=window.PLOTLYENV || {};                                    if (document.getElementById(\"76d6f720-e13b-4927-ac29-51fd736cd284\")) {                    Plotly.newPlot(                        \"76d6f720-e13b-4927-ac29-51fd736cd284\",                        [{\"hovertemplate\":\"variable=Accuracy\\u003cbr\\u003eModel=%{x}\\u003cbr\\u003evalue=%{y}\\u003cextra\\u003e\\u003c\\u002fextra\\u003e\",\"legendgroup\":\"Accuracy\",\"line\":{\"color\":\"red\",\"dash\":\"solid\"},\"marker\":{\"symbol\":\"circle\"},\"mode\":\"lines+markers\",\"name\":\"Accuracy\",\"orientation\":\"v\",\"showlegend\":true,\"x\":[\"RandomForestClassifier\",\"XGBClassifier\",\"LGBMClassifier\",\"AdaBoostClassifier\",\"BaggingClassifier\",\"ExtraTreesClassifier\",\"DecisionTreeClassifier\",\"BernoulliNB\",\"DummyClassifier\",\"CalibratedClassifierCV\",\"SVC\",\"QuadraticDiscriminantAnalysis\",\"KNeighborsClassifier\",\"LogisticRegression\",\"RidgeClassifier\",\"RidgeClassifierCV\",\"ExtraTreeClassifier\",\"LinearSVC\",\"SGDClassifier\",\"PassiveAggressiveClassifier\",\"LabelPropagation\",\"LabelSpreading\",\"Perceptron\",\"NearestCentroid\",\"GaussianNB\"],\"xaxis\":\"x\",\"y\":[0.8615,0.8575,0.8565,0.8565,0.8535,0.8495,0.8225,0.798,0.7975,0.797,0.7865,0.7855,0.7775,0.7695,0.7665,0.766,0.7655,0.75,0.7395,0.7205,0.7195,0.719,0.719,0.716,0.3525],\"yaxis\":\"y\",\"type\":\"scatter\"}],                        {\"template\":{\"data\":{\"histogram2dcontour\":[{\"type\":\"histogram2dcontour\",\"colorbar\":{\"outlinewidth\":0,\"ticks\":\"\"},\"colorscale\":[[0.0,\"#0d0887\"],[0.1111111111111111,\"#46039f\"],[0.2222222222222222,\"#7201a8\"],[0.3333333333333333,\"#9c179e\"],[0.4444444444444444,\"#bd3786\"],[0.5555555555555556,\"#d8576b\"],[0.6666666666666666,\"#ed7953\"],[0.7777777777777778,\"#fb9f3a\"],[0.8888888888888888,\"#fdca26\"],[1.0,\"#f0f921\"]]}],\"choropleth\":[{\"type\":\"choropleth\",\"colorbar\":{\"outlinewidth\":0,\"ticks\":\"\"}}],\"histogram2d\":[{\"type\":\"histogram2d\",\"colorbar\":{\"outlinewidth\":0,\"ticks\":\"\"},\"colorscale\":[[0.0,\"#0d0887\"],[0.1111111111111111,\"#46039f\"],[0.2222222222222222,\"#7201a8\"],[0.3333333333333333,\"#9c179e\"],[0.4444444444444444,\"#bd3786\"],[0.5555555555555556,\"#d8576b\"],[0.6666666666666666,\"#ed7953\"],[0.7777777777777778,\"#fb9f3a\"],[0.8888888888888888,\"#fdca26\"],[1.0,\"#f0f921\"]]}],\"heatmap\":[{\"type\":\"heatmap\",\"colorbar\":{\"outlinewidth\":0,\"ticks\":\"\"},\"colorscale\":[[0.0,\"#0d0887\"],[0.1111111111111111,\"#46039f\"],[0.2222222222222222,\"#7201a8\"],[0.3333333333333333,\"#9c179e\"],[0.4444444444444444,\"#bd3786\"],[0.5555555555555556,\"#d8576b\"],[0.6666666666666666,\"#ed7953\"],[0.7777777777777778,\"#fb9f3a\"],[0.8888888888888888,\"#fdca26\"],[1.0,\"#f0f921\"]]}],\"heatmapgl\":[{\"type\":\"heatmapgl\",\"colorbar\":{\"outlinewidth\":0,\"ticks\":\"\"},\"colorscale\":[[0.0,\"#0d0887\"],[0.1111111111111111,\"#46039f\"],[0.2222222222222222,\"#7201a8\"],[0.3333333333333333,\"#9c179e\"],[0.4444444444444444,\"#bd3786\"],[0.5555555555555556,\"#d8576b\"],[0.6666666666666666,\"#ed7953\"],[0.7777777777777778,\"#fb9f3a\"],[0.8888888888888888,\"#fdca26\"],[1.0,\"#f0f921\"]]}],\"contourcarpet\":[{\"type\":\"contourcarpet\",\"colorbar\":{\"outlinewidth\":0,\"ticks\":\"\"}}],\"contour\":[{\"type\":\"contour\",\"colorbar\":{\"outlinewidth\":0,\"ticks\":\"\"},\"colorscale\":[[0.0,\"#0d0887\"],[0.1111111111111111,\"#46039f\"],[0.2222222222222222,\"#7201a8\"],[0.3333333333333333,\"#9c179e\"],[0.4444444444444444,\"#bd3786\"],[0.5555555555555556,\"#d8576b\"],[0.6666666666666666,\"#ed7953\"],[0.7777777777777778,\"#fb9f3a\"],[0.8888888888888888,\"#fdca26\"],[1.0,\"#f0f921\"]]}],\"surface\":[{\"type\":\"surface\",\"colorbar\":{\"outlinewidth\":0,\"ticks\":\"\"},\"colorscale\":[[0.0,\"#0d0887\"],[0.1111111111111111,\"#46039f\"],[0.2222222222222222,\"#7201a8\"],[0.3333333333333333,\"#9c179e\"],[0.4444444444444444,\"#bd3786\"],[0.5555555555555556,\"#d8576b\"],[0.6666666666666666,\"#ed7953\"],[0.7777777777777778,\"#fb9f3a\"],[0.8888888888888888,\"#fdca26\"],[1.0,\"#f0f921\"]]}],\"mesh3d\":[{\"type\":\"mesh3d\",\"colorbar\":{\"outlinewidth\":0,\"ticks\":\"\"}}],\"scatter\":[{\"fillpattern\":{\"fillmode\":\"overlay\",\"size\":10,\"solidity\":0.2},\"type\":\"scatter\"}],\"parcoords\":[{\"type\":\"parcoords\",\"line\":{\"colorbar\":{\"outlinewidth\":0,\"ticks\":\"\"}}}],\"scatterpolargl\":[{\"type\":\"scatterpolargl\",\"marker\":{\"colorbar\":{\"outlinewidth\":0,\"ticks\":\"\"}}}],\"bar\":[{\"error_x\":{\"color\":\"#2a3f5f\"},\"error_y\":{\"color\":\"#2a3f5f\"},\"marker\":{\"line\":{\"color\":\"#E5ECF6\",\"width\":0.5},\"pattern\":{\"fillmode\":\"overlay\",\"size\":10,\"solidity\":0.2}},\"type\":\"bar\"}],\"scattergeo\":[{\"type\":\"scattergeo\",\"marker\":{\"colorbar\":{\"outlinewidth\":0,\"ticks\":\"\"}}}],\"scatterpolar\":[{\"type\":\"scatterpolar\",\"marker\":{\"colorbar\":{\"outlinewidth\":0,\"ticks\":\"\"}}}],\"histogram\":[{\"marker\":{\"pattern\":{\"fillmode\":\"overlay\",\"size\":10,\"solidity\":0.2}},\"type\":\"histogram\"}],\"scattergl\":[{\"type\":\"scattergl\",\"marker\":{\"colorbar\":{\"outlinewidth\":0,\"ticks\":\"\"}}}],\"scatter3d\":[{\"type\":\"scatter3d\",\"line\":{\"colorbar\":{\"outlinewidth\":0,\"ticks\":\"\"}},\"marker\":{\"colorbar\":{\"outlinewidth\":0,\"ticks\":\"\"}}}],\"scattermapbox\":[{\"type\":\"scattermapbox\",\"marker\":{\"colorbar\":{\"outlinewidth\":0,\"ticks\":\"\"}}}],\"scatterternary\":[{\"type\":\"scatterternary\",\"marker\":{\"colorbar\":{\"outlinewidth\":0,\"ticks\":\"\"}}}],\"scattercarpet\":[{\"type\":\"scattercarpet\",\"marker\":{\"colorbar\":{\"outlinewidth\":0,\"ticks\":\"\"}}}],\"carpet\":[{\"aaxis\":{\"endlinecolor\":\"#2a3f5f\",\"gridcolor\":\"white\",\"linecolor\":\"white\",\"minorgridcolor\":\"white\",\"startlinecolor\":\"#2a3f5f\"},\"baxis\":{\"endlinecolor\":\"#2a3f5f\",\"gridcolor\":\"white\",\"linecolor\":\"white\",\"minorgridcolor\":\"white\",\"startlinecolor\":\"#2a3f5f\"},\"type\":\"carpet\"}],\"table\":[{\"cells\":{\"fill\":{\"color\":\"#EBF0F8\"},\"line\":{\"color\":\"white\"}},\"header\":{\"fill\":{\"color\":\"#C8D4E3\"},\"line\":{\"color\":\"white\"}},\"type\":\"table\"}],\"barpolar\":[{\"marker\":{\"line\":{\"color\":\"#E5ECF6\",\"width\":0.5},\"pattern\":{\"fillmode\":\"overlay\",\"size\":10,\"solidity\":0.2}},\"type\":\"barpolar\"}],\"pie\":[{\"automargin\":true,\"type\":\"pie\"}]},\"layout\":{\"autotypenumbers\":\"strict\",\"colorway\":[\"#636efa\",\"#EF553B\",\"#00cc96\",\"#ab63fa\",\"#FFA15A\",\"#19d3f3\",\"#FF6692\",\"#B6E880\",\"#FF97FF\",\"#FECB52\"],\"font\":{\"color\":\"#2a3f5f\"},\"hovermode\":\"closest\",\"hoverlabel\":{\"align\":\"left\"},\"paper_bgcolor\":\"white\",\"plot_bgcolor\":\"#E5ECF6\",\"polar\":{\"bgcolor\":\"#E5ECF6\",\"angularaxis\":{\"gridcolor\":\"white\",\"linecolor\":\"white\",\"ticks\":\"\"},\"radialaxis\":{\"gridcolor\":\"white\",\"linecolor\":\"white\",\"ticks\":\"\"}},\"ternary\":{\"bgcolor\":\"#E5ECF6\",\"aaxis\":{\"gridcolor\":\"white\",\"linecolor\":\"white\",\"ticks\":\"\"},\"baxis\":{\"gridcolor\":\"white\",\"linecolor\":\"white\",\"ticks\":\"\"},\"caxis\":{\"gridcolor\":\"white\",\"linecolor\":\"white\",\"ticks\":\"\"}},\"coloraxis\":{\"colorbar\":{\"outlinewidth\":0,\"ticks\":\"\"}},\"colorscale\":{\"sequential\":[[0.0,\"#0d0887\"],[0.1111111111111111,\"#46039f\"],[0.2222222222222222,\"#7201a8\"],[0.3333333333333333,\"#9c179e\"],[0.4444444444444444,\"#bd3786\"],[0.5555555555555556,\"#d8576b\"],[0.6666666666666666,\"#ed7953\"],[0.7777777777777778,\"#fb9f3a\"],[0.8888888888888888,\"#fdca26\"],[1.0,\"#f0f921\"]],\"sequentialminus\":[[0.0,\"#0d0887\"],[0.1111111111111111,\"#46039f\"],[0.2222222222222222,\"#7201a8\"],[0.3333333333333333,\"#9c179e\"],[0.4444444444444444,\"#bd3786\"],[0.5555555555555556,\"#d8576b\"],[0.6666666666666666,\"#ed7953\"],[0.7777777777777778,\"#fb9f3a\"],[0.8888888888888888,\"#fdca26\"],[1.0,\"#f0f921\"]],\"diverging\":[[0,\"#8e0152\"],[0.1,\"#c51b7d\"],[0.2,\"#de77ae\"],[0.3,\"#f1b6da\"],[0.4,\"#fde0ef\"],[0.5,\"#f7f7f7\"],[0.6,\"#e6f5d0\"],[0.7,\"#b8e186\"],[0.8,\"#7fbc41\"],[0.9,\"#4d9221\"],[1,\"#276419\"]]},\"xaxis\":{\"gridcolor\":\"white\",\"linecolor\":\"white\",\"ticks\":\"\",\"title\":{\"standoff\":15},\"zerolinecolor\":\"white\",\"automargin\":true,\"zerolinewidth\":2},\"yaxis\":{\"gridcolor\":\"white\",\"linecolor\":\"white\",\"ticks\":\"\",\"title\":{\"standoff\":15},\"zerolinecolor\":\"white\",\"automargin\":true,\"zerolinewidth\":2},\"scene\":{\"xaxis\":{\"backgroundcolor\":\"#E5ECF6\",\"gridcolor\":\"white\",\"linecolor\":\"white\",\"showbackground\":true,\"ticks\":\"\",\"zerolinecolor\":\"white\",\"gridwidth\":2},\"yaxis\":{\"backgroundcolor\":\"#E5ECF6\",\"gridcolor\":\"white\",\"linecolor\":\"white\",\"showbackground\":true,\"ticks\":\"\",\"zerolinecolor\":\"white\",\"gridwidth\":2},\"zaxis\":{\"backgroundcolor\":\"#E5ECF6\",\"gridcolor\":\"white\",\"linecolor\":\"white\",\"showbackground\":true,\"ticks\":\"\",\"zerolinecolor\":\"white\",\"gridwidth\":2}},\"shapedefaults\":{\"line\":{\"color\":\"#2a3f5f\"}},\"annotationdefaults\":{\"arrowcolor\":\"#2a3f5f\",\"arrowhead\":0,\"arrowwidth\":1},\"geo\":{\"bgcolor\":\"white\",\"landcolor\":\"#E5ECF6\",\"subunitcolor\":\"white\",\"showland\":true,\"showlakes\":true,\"lakecolor\":\"white\"},\"title\":{\"x\":0.05},\"mapbox\":{\"style\":\"light\"}}},\"xaxis\":{\"anchor\":\"y\",\"domain\":[0.0,1.0],\"title\":{\"text\":\"Model\"},\"rangeslider\":{\"visible\":false}},\"yaxis\":{\"anchor\":\"x\",\"domain\":[0.0,1.0],\"title\":{\"text\":\"Accuracy\"}},\"legend\":{\"title\":{\"text\":\"variable\"},\"tracegroupgap\":0},\"margin\":{\"t\":60},\"title\":{\"text\":\"Accuracy vs Model\"},\"showlegend\":true},                        {\"responsive\": true}                    ).then(function(){\n",
       "                            \n",
       "var gd = document.getElementById('76d6f720-e13b-4927-ac29-51fd736cd284');\n",
       "var x = new MutationObserver(function (mutations, observer) {{\n",
       "        var display = window.getComputedStyle(gd).display;\n",
       "        if (!display || display === 'none') {{\n",
       "            console.log([gd, 'removed!']);\n",
       "            Plotly.purge(gd);\n",
       "            observer.disconnect();\n",
       "        }}\n",
       "}});\n",
       "\n",
       "// Listen for the removal of the full notebook cells\n",
       "var notebookContainer = gd.closest('#notebook-container');\n",
       "if (notebookContainer) {{\n",
       "    x.observe(notebookContainer, {childList: true});\n",
       "}}\n",
       "\n",
       "// Listen for the clearing of the current output cell\n",
       "var outputEl = gd.closest('.output');\n",
       "if (outputEl) {{\n",
       "    x.observe(outputEl, {childList: true});\n",
       "}}\n",
       "\n",
       "                        })                };                });            </script>        </div>"
      ]
     },
     "metadata": {},
     "output_type": "display_data"
    }
   ],
   "source": [
    "# Accuracy Vs Model:\n",
    "models.sort_values(by = 'Accuracy',inplace = True,ascending = False)\n",
    "line = px.line(data_frame= models ,y =[\"Accuracy\"] , markers = True)\n",
    "line.update_xaxes(title=\"Model\",\n",
    "              rangeslider_visible = False)\n",
    "line.update_yaxes(title = \"Accuracy\")\n",
    "line.update_traces(line_color=\"red\")\n",
    "line.update_layout(showlegend = True,\n",
    "    title = {\n",
    "        'text': 'Accuracy vs Model'})\n",
    "\n",
    "line.show()"
   ]
  },
  {
   "cell_type": "code",
   "execution_count": 99,
   "id": "f47f86ae",
   "metadata": {},
   "outputs": [
    {
     "data": {
      "application/vnd.plotly.v1+json": {
       "config": {
        "plotlyServerURL": "https://plot.ly"
       },
       "data": [
        {
         "hovertemplate": "variable=Time Taken<br>Model=%{x}<br>value=%{y}<extra></extra>",
         "legendgroup": "Time Taken",
         "line": {
          "color": "blue",
          "dash": "solid"
         },
         "marker": {
          "symbol": "circle"
         },
         "mode": "lines+markers",
         "name": "Time Taken",
         "orientation": "v",
         "showlegend": true,
         "type": "scatter",
         "x": [
          "CalibratedClassifierCV",
          "SVC",
          "LinearSVC",
          "ExtraTreesClassifier",
          "QuadraticDiscriminantAnalysis",
          "RidgeClassifierCV",
          "RandomForestClassifier",
          "AdaBoostClassifier",
          "BaggingClassifier",
          "LabelSpreading",
          "SGDClassifier",
          "LabelPropagation",
          "XGBClassifier",
          "DecisionTreeClassifier",
          "RidgeClassifier",
          "LGBMClassifier",
          "PassiveAggressiveClassifier",
          "KNeighborsClassifier",
          "LogisticRegression",
          "BernoulliNB",
          "GaussianNB",
          "Perceptron",
          "ExtraTreeClassifier",
          "NearestCentroid",
          "DummyClassifier"
         ],
         "xaxis": "x",
         "y": [
          348.1918489933014,
          147.96735453605652,
          74.12838315963745,
          32.6880989074707,
          30.989014148712158,
          27.53553080558777,
          21.773739099502563,
          17.789522409439087,
          17.13843607902527,
          13.917161226272583,
          13.132200479507446,
          12.607555627822876,
          6.729856252670288,
          4.702679872512817,
          4.418545961380005,
          4.285136938095093,
          4.10022759437561,
          3.9267632961273193,
          3.728807210922241,
          3.0095322132110596,
          2.7351884841918945,
          2.6011149883270264,
          2.5460364818573,
          2.3935298919677734,
          1.953955888748169
         ],
         "yaxis": "y"
        }
       ],
       "layout": {
        "legend": {
         "title": {
          "text": "variable"
         },
         "tracegroupgap": 0
        },
        "margin": {
         "t": 60
        },
        "showlegend": true,
        "template": {
         "data": {
          "bar": [
           {
            "error_x": {
             "color": "#2a3f5f"
            },
            "error_y": {
             "color": "#2a3f5f"
            },
            "marker": {
             "line": {
              "color": "#E5ECF6",
              "width": 0.5
             },
             "pattern": {
              "fillmode": "overlay",
              "size": 10,
              "solidity": 0.2
             }
            },
            "type": "bar"
           }
          ],
          "barpolar": [
           {
            "marker": {
             "line": {
              "color": "#E5ECF6",
              "width": 0.5
             },
             "pattern": {
              "fillmode": "overlay",
              "size": 10,
              "solidity": 0.2
             }
            },
            "type": "barpolar"
           }
          ],
          "carpet": [
           {
            "aaxis": {
             "endlinecolor": "#2a3f5f",
             "gridcolor": "white",
             "linecolor": "white",
             "minorgridcolor": "white",
             "startlinecolor": "#2a3f5f"
            },
            "baxis": {
             "endlinecolor": "#2a3f5f",
             "gridcolor": "white",
             "linecolor": "white",
             "minorgridcolor": "white",
             "startlinecolor": "#2a3f5f"
            },
            "type": "carpet"
           }
          ],
          "choropleth": [
           {
            "colorbar": {
             "outlinewidth": 0,
             "ticks": ""
            },
            "type": "choropleth"
           }
          ],
          "contour": [
           {
            "colorbar": {
             "outlinewidth": 0,
             "ticks": ""
            },
            "colorscale": [
             [
              0,
              "#0d0887"
             ],
             [
              0.1111111111111111,
              "#46039f"
             ],
             [
              0.2222222222222222,
              "#7201a8"
             ],
             [
              0.3333333333333333,
              "#9c179e"
             ],
             [
              0.4444444444444444,
              "#bd3786"
             ],
             [
              0.5555555555555556,
              "#d8576b"
             ],
             [
              0.6666666666666666,
              "#ed7953"
             ],
             [
              0.7777777777777778,
              "#fb9f3a"
             ],
             [
              0.8888888888888888,
              "#fdca26"
             ],
             [
              1,
              "#f0f921"
             ]
            ],
            "type": "contour"
           }
          ],
          "contourcarpet": [
           {
            "colorbar": {
             "outlinewidth": 0,
             "ticks": ""
            },
            "type": "contourcarpet"
           }
          ],
          "heatmap": [
           {
            "colorbar": {
             "outlinewidth": 0,
             "ticks": ""
            },
            "colorscale": [
             [
              0,
              "#0d0887"
             ],
             [
              0.1111111111111111,
              "#46039f"
             ],
             [
              0.2222222222222222,
              "#7201a8"
             ],
             [
              0.3333333333333333,
              "#9c179e"
             ],
             [
              0.4444444444444444,
              "#bd3786"
             ],
             [
              0.5555555555555556,
              "#d8576b"
             ],
             [
              0.6666666666666666,
              "#ed7953"
             ],
             [
              0.7777777777777778,
              "#fb9f3a"
             ],
             [
              0.8888888888888888,
              "#fdca26"
             ],
             [
              1,
              "#f0f921"
             ]
            ],
            "type": "heatmap"
           }
          ],
          "heatmapgl": [
           {
            "colorbar": {
             "outlinewidth": 0,
             "ticks": ""
            },
            "colorscale": [
             [
              0,
              "#0d0887"
             ],
             [
              0.1111111111111111,
              "#46039f"
             ],
             [
              0.2222222222222222,
              "#7201a8"
             ],
             [
              0.3333333333333333,
              "#9c179e"
             ],
             [
              0.4444444444444444,
              "#bd3786"
             ],
             [
              0.5555555555555556,
              "#d8576b"
             ],
             [
              0.6666666666666666,
              "#ed7953"
             ],
             [
              0.7777777777777778,
              "#fb9f3a"
             ],
             [
              0.8888888888888888,
              "#fdca26"
             ],
             [
              1,
              "#f0f921"
             ]
            ],
            "type": "heatmapgl"
           }
          ],
          "histogram": [
           {
            "marker": {
             "pattern": {
              "fillmode": "overlay",
              "size": 10,
              "solidity": 0.2
             }
            },
            "type": "histogram"
           }
          ],
          "histogram2d": [
           {
            "colorbar": {
             "outlinewidth": 0,
             "ticks": ""
            },
            "colorscale": [
             [
              0,
              "#0d0887"
             ],
             [
              0.1111111111111111,
              "#46039f"
             ],
             [
              0.2222222222222222,
              "#7201a8"
             ],
             [
              0.3333333333333333,
              "#9c179e"
             ],
             [
              0.4444444444444444,
              "#bd3786"
             ],
             [
              0.5555555555555556,
              "#d8576b"
             ],
             [
              0.6666666666666666,
              "#ed7953"
             ],
             [
              0.7777777777777778,
              "#fb9f3a"
             ],
             [
              0.8888888888888888,
              "#fdca26"
             ],
             [
              1,
              "#f0f921"
             ]
            ],
            "type": "histogram2d"
           }
          ],
          "histogram2dcontour": [
           {
            "colorbar": {
             "outlinewidth": 0,
             "ticks": ""
            },
            "colorscale": [
             [
              0,
              "#0d0887"
             ],
             [
              0.1111111111111111,
              "#46039f"
             ],
             [
              0.2222222222222222,
              "#7201a8"
             ],
             [
              0.3333333333333333,
              "#9c179e"
             ],
             [
              0.4444444444444444,
              "#bd3786"
             ],
             [
              0.5555555555555556,
              "#d8576b"
             ],
             [
              0.6666666666666666,
              "#ed7953"
             ],
             [
              0.7777777777777778,
              "#fb9f3a"
             ],
             [
              0.8888888888888888,
              "#fdca26"
             ],
             [
              1,
              "#f0f921"
             ]
            ],
            "type": "histogram2dcontour"
           }
          ],
          "mesh3d": [
           {
            "colorbar": {
             "outlinewidth": 0,
             "ticks": ""
            },
            "type": "mesh3d"
           }
          ],
          "parcoords": [
           {
            "line": {
             "colorbar": {
              "outlinewidth": 0,
              "ticks": ""
             }
            },
            "type": "parcoords"
           }
          ],
          "pie": [
           {
            "automargin": true,
            "type": "pie"
           }
          ],
          "scatter": [
           {
            "fillpattern": {
             "fillmode": "overlay",
             "size": 10,
             "solidity": 0.2
            },
            "type": "scatter"
           }
          ],
          "scatter3d": [
           {
            "line": {
             "colorbar": {
              "outlinewidth": 0,
              "ticks": ""
             }
            },
            "marker": {
             "colorbar": {
              "outlinewidth": 0,
              "ticks": ""
             }
            },
            "type": "scatter3d"
           }
          ],
          "scattercarpet": [
           {
            "marker": {
             "colorbar": {
              "outlinewidth": 0,
              "ticks": ""
             }
            },
            "type": "scattercarpet"
           }
          ],
          "scattergeo": [
           {
            "marker": {
             "colorbar": {
              "outlinewidth": 0,
              "ticks": ""
             }
            },
            "type": "scattergeo"
           }
          ],
          "scattergl": [
           {
            "marker": {
             "colorbar": {
              "outlinewidth": 0,
              "ticks": ""
             }
            },
            "type": "scattergl"
           }
          ],
          "scattermapbox": [
           {
            "marker": {
             "colorbar": {
              "outlinewidth": 0,
              "ticks": ""
             }
            },
            "type": "scattermapbox"
           }
          ],
          "scatterpolar": [
           {
            "marker": {
             "colorbar": {
              "outlinewidth": 0,
              "ticks": ""
             }
            },
            "type": "scatterpolar"
           }
          ],
          "scatterpolargl": [
           {
            "marker": {
             "colorbar": {
              "outlinewidth": 0,
              "ticks": ""
             }
            },
            "type": "scatterpolargl"
           }
          ],
          "scatterternary": [
           {
            "marker": {
             "colorbar": {
              "outlinewidth": 0,
              "ticks": ""
             }
            },
            "type": "scatterternary"
           }
          ],
          "surface": [
           {
            "colorbar": {
             "outlinewidth": 0,
             "ticks": ""
            },
            "colorscale": [
             [
              0,
              "#0d0887"
             ],
             [
              0.1111111111111111,
              "#46039f"
             ],
             [
              0.2222222222222222,
              "#7201a8"
             ],
             [
              0.3333333333333333,
              "#9c179e"
             ],
             [
              0.4444444444444444,
              "#bd3786"
             ],
             [
              0.5555555555555556,
              "#d8576b"
             ],
             [
              0.6666666666666666,
              "#ed7953"
             ],
             [
              0.7777777777777778,
              "#fb9f3a"
             ],
             [
              0.8888888888888888,
              "#fdca26"
             ],
             [
              1,
              "#f0f921"
             ]
            ],
            "type": "surface"
           }
          ],
          "table": [
           {
            "cells": {
             "fill": {
              "color": "#EBF0F8"
             },
             "line": {
              "color": "white"
             }
            },
            "header": {
             "fill": {
              "color": "#C8D4E3"
             },
             "line": {
              "color": "white"
             }
            },
            "type": "table"
           }
          ]
         },
         "layout": {
          "annotationdefaults": {
           "arrowcolor": "#2a3f5f",
           "arrowhead": 0,
           "arrowwidth": 1
          },
          "autotypenumbers": "strict",
          "coloraxis": {
           "colorbar": {
            "outlinewidth": 0,
            "ticks": ""
           }
          },
          "colorscale": {
           "diverging": [
            [
             0,
             "#8e0152"
            ],
            [
             0.1,
             "#c51b7d"
            ],
            [
             0.2,
             "#de77ae"
            ],
            [
             0.3,
             "#f1b6da"
            ],
            [
             0.4,
             "#fde0ef"
            ],
            [
             0.5,
             "#f7f7f7"
            ],
            [
             0.6,
             "#e6f5d0"
            ],
            [
             0.7,
             "#b8e186"
            ],
            [
             0.8,
             "#7fbc41"
            ],
            [
             0.9,
             "#4d9221"
            ],
            [
             1,
             "#276419"
            ]
           ],
           "sequential": [
            [
             0,
             "#0d0887"
            ],
            [
             0.1111111111111111,
             "#46039f"
            ],
            [
             0.2222222222222222,
             "#7201a8"
            ],
            [
             0.3333333333333333,
             "#9c179e"
            ],
            [
             0.4444444444444444,
             "#bd3786"
            ],
            [
             0.5555555555555556,
             "#d8576b"
            ],
            [
             0.6666666666666666,
             "#ed7953"
            ],
            [
             0.7777777777777778,
             "#fb9f3a"
            ],
            [
             0.8888888888888888,
             "#fdca26"
            ],
            [
             1,
             "#f0f921"
            ]
           ],
           "sequentialminus": [
            [
             0,
             "#0d0887"
            ],
            [
             0.1111111111111111,
             "#46039f"
            ],
            [
             0.2222222222222222,
             "#7201a8"
            ],
            [
             0.3333333333333333,
             "#9c179e"
            ],
            [
             0.4444444444444444,
             "#bd3786"
            ],
            [
             0.5555555555555556,
             "#d8576b"
            ],
            [
             0.6666666666666666,
             "#ed7953"
            ],
            [
             0.7777777777777778,
             "#fb9f3a"
            ],
            [
             0.8888888888888888,
             "#fdca26"
            ],
            [
             1,
             "#f0f921"
            ]
           ]
          },
          "colorway": [
           "#636efa",
           "#EF553B",
           "#00cc96",
           "#ab63fa",
           "#FFA15A",
           "#19d3f3",
           "#FF6692",
           "#B6E880",
           "#FF97FF",
           "#FECB52"
          ],
          "font": {
           "color": "#2a3f5f"
          },
          "geo": {
           "bgcolor": "white",
           "lakecolor": "white",
           "landcolor": "#E5ECF6",
           "showlakes": true,
           "showland": true,
           "subunitcolor": "white"
          },
          "hoverlabel": {
           "align": "left"
          },
          "hovermode": "closest",
          "mapbox": {
           "style": "light"
          },
          "paper_bgcolor": "white",
          "plot_bgcolor": "#E5ECF6",
          "polar": {
           "angularaxis": {
            "gridcolor": "white",
            "linecolor": "white",
            "ticks": ""
           },
           "bgcolor": "#E5ECF6",
           "radialaxis": {
            "gridcolor": "white",
            "linecolor": "white",
            "ticks": ""
           }
          },
          "scene": {
           "xaxis": {
            "backgroundcolor": "#E5ECF6",
            "gridcolor": "white",
            "gridwidth": 2,
            "linecolor": "white",
            "showbackground": true,
            "ticks": "",
            "zerolinecolor": "white"
           },
           "yaxis": {
            "backgroundcolor": "#E5ECF6",
            "gridcolor": "white",
            "gridwidth": 2,
            "linecolor": "white",
            "showbackground": true,
            "ticks": "",
            "zerolinecolor": "white"
           },
           "zaxis": {
            "backgroundcolor": "#E5ECF6",
            "gridcolor": "white",
            "gridwidth": 2,
            "linecolor": "white",
            "showbackground": true,
            "ticks": "",
            "zerolinecolor": "white"
           }
          },
          "shapedefaults": {
           "line": {
            "color": "#2a3f5f"
           }
          },
          "ternary": {
           "aaxis": {
            "gridcolor": "white",
            "linecolor": "white",
            "ticks": ""
           },
           "baxis": {
            "gridcolor": "white",
            "linecolor": "white",
            "ticks": ""
           },
           "bgcolor": "#E5ECF6",
           "caxis": {
            "gridcolor": "white",
            "linecolor": "white",
            "ticks": ""
           }
          },
          "title": {
           "x": 0.05
          },
          "xaxis": {
           "automargin": true,
           "gridcolor": "white",
           "linecolor": "white",
           "ticks": "",
           "title": {
            "standoff": 15
           },
           "zerolinecolor": "white",
           "zerolinewidth": 2
          },
          "yaxis": {
           "automargin": true,
           "gridcolor": "white",
           "linecolor": "white",
           "ticks": "",
           "title": {
            "standoff": 15
           },
           "zerolinecolor": "white",
           "zerolinewidth": 2
          }
         }
        },
        "title": {
         "text": "Time Taken Vs Model"
        },
        "xaxis": {
         "anchor": "y",
         "domain": [
          0,
          1
         ],
         "title": {
          "text": "Model"
         }
        },
        "yaxis": {
         "anchor": "x",
         "domain": [
          0,
          1
         ],
         "title": {
          "text": "Time Taken"
         }
        }
       }
      },
      "text/html": [
       "<div>                            <div id=\"9c4dbb20-e6c6-4461-8c10-33321cfdb312\" class=\"plotly-graph-div\" style=\"height:525px; width:100%;\"></div>            <script type=\"text/javascript\">                require([\"plotly\"], function(Plotly) {                    window.PLOTLYENV=window.PLOTLYENV || {};                                    if (document.getElementById(\"9c4dbb20-e6c6-4461-8c10-33321cfdb312\")) {                    Plotly.newPlot(                        \"9c4dbb20-e6c6-4461-8c10-33321cfdb312\",                        [{\"hovertemplate\":\"variable=Time Taken\\u003cbr\\u003eModel=%{x}\\u003cbr\\u003evalue=%{y}\\u003cextra\\u003e\\u003c\\u002fextra\\u003e\",\"legendgroup\":\"Time Taken\",\"line\":{\"color\":\"blue\",\"dash\":\"solid\"},\"marker\":{\"symbol\":\"circle\"},\"mode\":\"lines+markers\",\"name\":\"Time Taken\",\"orientation\":\"v\",\"showlegend\":true,\"x\":[\"CalibratedClassifierCV\",\"SVC\",\"LinearSVC\",\"ExtraTreesClassifier\",\"QuadraticDiscriminantAnalysis\",\"RidgeClassifierCV\",\"RandomForestClassifier\",\"AdaBoostClassifier\",\"BaggingClassifier\",\"LabelSpreading\",\"SGDClassifier\",\"LabelPropagation\",\"XGBClassifier\",\"DecisionTreeClassifier\",\"RidgeClassifier\",\"LGBMClassifier\",\"PassiveAggressiveClassifier\",\"KNeighborsClassifier\",\"LogisticRegression\",\"BernoulliNB\",\"GaussianNB\",\"Perceptron\",\"ExtraTreeClassifier\",\"NearestCentroid\",\"DummyClassifier\"],\"xaxis\":\"x\",\"y\":[348.1918489933014,147.96735453605652,74.12838315963745,32.6880989074707,30.989014148712158,27.53553080558777,21.773739099502563,17.789522409439087,17.13843607902527,13.917161226272583,13.132200479507446,12.607555627822876,6.729856252670288,4.702679872512817,4.418545961380005,4.285136938095093,4.10022759437561,3.9267632961273193,3.728807210922241,3.0095322132110596,2.7351884841918945,2.6011149883270264,2.5460364818573,2.3935298919677734,1.953955888748169],\"yaxis\":\"y\",\"type\":\"scatter\"}],                        {\"template\":{\"data\":{\"histogram2dcontour\":[{\"type\":\"histogram2dcontour\",\"colorbar\":{\"outlinewidth\":0,\"ticks\":\"\"},\"colorscale\":[[0.0,\"#0d0887\"],[0.1111111111111111,\"#46039f\"],[0.2222222222222222,\"#7201a8\"],[0.3333333333333333,\"#9c179e\"],[0.4444444444444444,\"#bd3786\"],[0.5555555555555556,\"#d8576b\"],[0.6666666666666666,\"#ed7953\"],[0.7777777777777778,\"#fb9f3a\"],[0.8888888888888888,\"#fdca26\"],[1.0,\"#f0f921\"]]}],\"choropleth\":[{\"type\":\"choropleth\",\"colorbar\":{\"outlinewidth\":0,\"ticks\":\"\"}}],\"histogram2d\":[{\"type\":\"histogram2d\",\"colorbar\":{\"outlinewidth\":0,\"ticks\":\"\"},\"colorscale\":[[0.0,\"#0d0887\"],[0.1111111111111111,\"#46039f\"],[0.2222222222222222,\"#7201a8\"],[0.3333333333333333,\"#9c179e\"],[0.4444444444444444,\"#bd3786\"],[0.5555555555555556,\"#d8576b\"],[0.6666666666666666,\"#ed7953\"],[0.7777777777777778,\"#fb9f3a\"],[0.8888888888888888,\"#fdca26\"],[1.0,\"#f0f921\"]]}],\"heatmap\":[{\"type\":\"heatmap\",\"colorbar\":{\"outlinewidth\":0,\"ticks\":\"\"},\"colorscale\":[[0.0,\"#0d0887\"],[0.1111111111111111,\"#46039f\"],[0.2222222222222222,\"#7201a8\"],[0.3333333333333333,\"#9c179e\"],[0.4444444444444444,\"#bd3786\"],[0.5555555555555556,\"#d8576b\"],[0.6666666666666666,\"#ed7953\"],[0.7777777777777778,\"#fb9f3a\"],[0.8888888888888888,\"#fdca26\"],[1.0,\"#f0f921\"]]}],\"heatmapgl\":[{\"type\":\"heatmapgl\",\"colorbar\":{\"outlinewidth\":0,\"ticks\":\"\"},\"colorscale\":[[0.0,\"#0d0887\"],[0.1111111111111111,\"#46039f\"],[0.2222222222222222,\"#7201a8\"],[0.3333333333333333,\"#9c179e\"],[0.4444444444444444,\"#bd3786\"],[0.5555555555555556,\"#d8576b\"],[0.6666666666666666,\"#ed7953\"],[0.7777777777777778,\"#fb9f3a\"],[0.8888888888888888,\"#fdca26\"],[1.0,\"#f0f921\"]]}],\"contourcarpet\":[{\"type\":\"contourcarpet\",\"colorbar\":{\"outlinewidth\":0,\"ticks\":\"\"}}],\"contour\":[{\"type\":\"contour\",\"colorbar\":{\"outlinewidth\":0,\"ticks\":\"\"},\"colorscale\":[[0.0,\"#0d0887\"],[0.1111111111111111,\"#46039f\"],[0.2222222222222222,\"#7201a8\"],[0.3333333333333333,\"#9c179e\"],[0.4444444444444444,\"#bd3786\"],[0.5555555555555556,\"#d8576b\"],[0.6666666666666666,\"#ed7953\"],[0.7777777777777778,\"#fb9f3a\"],[0.8888888888888888,\"#fdca26\"],[1.0,\"#f0f921\"]]}],\"surface\":[{\"type\":\"surface\",\"colorbar\":{\"outlinewidth\":0,\"ticks\":\"\"},\"colorscale\":[[0.0,\"#0d0887\"],[0.1111111111111111,\"#46039f\"],[0.2222222222222222,\"#7201a8\"],[0.3333333333333333,\"#9c179e\"],[0.4444444444444444,\"#bd3786\"],[0.5555555555555556,\"#d8576b\"],[0.6666666666666666,\"#ed7953\"],[0.7777777777777778,\"#fb9f3a\"],[0.8888888888888888,\"#fdca26\"],[1.0,\"#f0f921\"]]}],\"mesh3d\":[{\"type\":\"mesh3d\",\"colorbar\":{\"outlinewidth\":0,\"ticks\":\"\"}}],\"scatter\":[{\"fillpattern\":{\"fillmode\":\"overlay\",\"size\":10,\"solidity\":0.2},\"type\":\"scatter\"}],\"parcoords\":[{\"type\":\"parcoords\",\"line\":{\"colorbar\":{\"outlinewidth\":0,\"ticks\":\"\"}}}],\"scatterpolargl\":[{\"type\":\"scatterpolargl\",\"marker\":{\"colorbar\":{\"outlinewidth\":0,\"ticks\":\"\"}}}],\"bar\":[{\"error_x\":{\"color\":\"#2a3f5f\"},\"error_y\":{\"color\":\"#2a3f5f\"},\"marker\":{\"line\":{\"color\":\"#E5ECF6\",\"width\":0.5},\"pattern\":{\"fillmode\":\"overlay\",\"size\":10,\"solidity\":0.2}},\"type\":\"bar\"}],\"scattergeo\":[{\"type\":\"scattergeo\",\"marker\":{\"colorbar\":{\"outlinewidth\":0,\"ticks\":\"\"}}}],\"scatterpolar\":[{\"type\":\"scatterpolar\",\"marker\":{\"colorbar\":{\"outlinewidth\":0,\"ticks\":\"\"}}}],\"histogram\":[{\"marker\":{\"pattern\":{\"fillmode\":\"overlay\",\"size\":10,\"solidity\":0.2}},\"type\":\"histogram\"}],\"scattergl\":[{\"type\":\"scattergl\",\"marker\":{\"colorbar\":{\"outlinewidth\":0,\"ticks\":\"\"}}}],\"scatter3d\":[{\"type\":\"scatter3d\",\"line\":{\"colorbar\":{\"outlinewidth\":0,\"ticks\":\"\"}},\"marker\":{\"colorbar\":{\"outlinewidth\":0,\"ticks\":\"\"}}}],\"scattermapbox\":[{\"type\":\"scattermapbox\",\"marker\":{\"colorbar\":{\"outlinewidth\":0,\"ticks\":\"\"}}}],\"scatterternary\":[{\"type\":\"scatterternary\",\"marker\":{\"colorbar\":{\"outlinewidth\":0,\"ticks\":\"\"}}}],\"scattercarpet\":[{\"type\":\"scattercarpet\",\"marker\":{\"colorbar\":{\"outlinewidth\":0,\"ticks\":\"\"}}}],\"carpet\":[{\"aaxis\":{\"endlinecolor\":\"#2a3f5f\",\"gridcolor\":\"white\",\"linecolor\":\"white\",\"minorgridcolor\":\"white\",\"startlinecolor\":\"#2a3f5f\"},\"baxis\":{\"endlinecolor\":\"#2a3f5f\",\"gridcolor\":\"white\",\"linecolor\":\"white\",\"minorgridcolor\":\"white\",\"startlinecolor\":\"#2a3f5f\"},\"type\":\"carpet\"}],\"table\":[{\"cells\":{\"fill\":{\"color\":\"#EBF0F8\"},\"line\":{\"color\":\"white\"}},\"header\":{\"fill\":{\"color\":\"#C8D4E3\"},\"line\":{\"color\":\"white\"}},\"type\":\"table\"}],\"barpolar\":[{\"marker\":{\"line\":{\"color\":\"#E5ECF6\",\"width\":0.5},\"pattern\":{\"fillmode\":\"overlay\",\"size\":10,\"solidity\":0.2}},\"type\":\"barpolar\"}],\"pie\":[{\"automargin\":true,\"type\":\"pie\"}]},\"layout\":{\"autotypenumbers\":\"strict\",\"colorway\":[\"#636efa\",\"#EF553B\",\"#00cc96\",\"#ab63fa\",\"#FFA15A\",\"#19d3f3\",\"#FF6692\",\"#B6E880\",\"#FF97FF\",\"#FECB52\"],\"font\":{\"color\":\"#2a3f5f\"},\"hovermode\":\"closest\",\"hoverlabel\":{\"align\":\"left\"},\"paper_bgcolor\":\"white\",\"plot_bgcolor\":\"#E5ECF6\",\"polar\":{\"bgcolor\":\"#E5ECF6\",\"angularaxis\":{\"gridcolor\":\"white\",\"linecolor\":\"white\",\"ticks\":\"\"},\"radialaxis\":{\"gridcolor\":\"white\",\"linecolor\":\"white\",\"ticks\":\"\"}},\"ternary\":{\"bgcolor\":\"#E5ECF6\",\"aaxis\":{\"gridcolor\":\"white\",\"linecolor\":\"white\",\"ticks\":\"\"},\"baxis\":{\"gridcolor\":\"white\",\"linecolor\":\"white\",\"ticks\":\"\"},\"caxis\":{\"gridcolor\":\"white\",\"linecolor\":\"white\",\"ticks\":\"\"}},\"coloraxis\":{\"colorbar\":{\"outlinewidth\":0,\"ticks\":\"\"}},\"colorscale\":{\"sequential\":[[0.0,\"#0d0887\"],[0.1111111111111111,\"#46039f\"],[0.2222222222222222,\"#7201a8\"],[0.3333333333333333,\"#9c179e\"],[0.4444444444444444,\"#bd3786\"],[0.5555555555555556,\"#d8576b\"],[0.6666666666666666,\"#ed7953\"],[0.7777777777777778,\"#fb9f3a\"],[0.8888888888888888,\"#fdca26\"],[1.0,\"#f0f921\"]],\"sequentialminus\":[[0.0,\"#0d0887\"],[0.1111111111111111,\"#46039f\"],[0.2222222222222222,\"#7201a8\"],[0.3333333333333333,\"#9c179e\"],[0.4444444444444444,\"#bd3786\"],[0.5555555555555556,\"#d8576b\"],[0.6666666666666666,\"#ed7953\"],[0.7777777777777778,\"#fb9f3a\"],[0.8888888888888888,\"#fdca26\"],[1.0,\"#f0f921\"]],\"diverging\":[[0,\"#8e0152\"],[0.1,\"#c51b7d\"],[0.2,\"#de77ae\"],[0.3,\"#f1b6da\"],[0.4,\"#fde0ef\"],[0.5,\"#f7f7f7\"],[0.6,\"#e6f5d0\"],[0.7,\"#b8e186\"],[0.8,\"#7fbc41\"],[0.9,\"#4d9221\"],[1,\"#276419\"]]},\"xaxis\":{\"gridcolor\":\"white\",\"linecolor\":\"white\",\"ticks\":\"\",\"title\":{\"standoff\":15},\"zerolinecolor\":\"white\",\"automargin\":true,\"zerolinewidth\":2},\"yaxis\":{\"gridcolor\":\"white\",\"linecolor\":\"white\",\"ticks\":\"\",\"title\":{\"standoff\":15},\"zerolinecolor\":\"white\",\"automargin\":true,\"zerolinewidth\":2},\"scene\":{\"xaxis\":{\"backgroundcolor\":\"#E5ECF6\",\"gridcolor\":\"white\",\"linecolor\":\"white\",\"showbackground\":true,\"ticks\":\"\",\"zerolinecolor\":\"white\",\"gridwidth\":2},\"yaxis\":{\"backgroundcolor\":\"#E5ECF6\",\"gridcolor\":\"white\",\"linecolor\":\"white\",\"showbackground\":true,\"ticks\":\"\",\"zerolinecolor\":\"white\",\"gridwidth\":2},\"zaxis\":{\"backgroundcolor\":\"#E5ECF6\",\"gridcolor\":\"white\",\"linecolor\":\"white\",\"showbackground\":true,\"ticks\":\"\",\"zerolinecolor\":\"white\",\"gridwidth\":2}},\"shapedefaults\":{\"line\":{\"color\":\"#2a3f5f\"}},\"annotationdefaults\":{\"arrowcolor\":\"#2a3f5f\",\"arrowhead\":0,\"arrowwidth\":1},\"geo\":{\"bgcolor\":\"white\",\"landcolor\":\"#E5ECF6\",\"subunitcolor\":\"white\",\"showland\":true,\"showlakes\":true,\"lakecolor\":\"white\"},\"title\":{\"x\":0.05},\"mapbox\":{\"style\":\"light\"}}},\"xaxis\":{\"anchor\":\"y\",\"domain\":[0.0,1.0],\"title\":{\"text\":\"Model\"}},\"yaxis\":{\"anchor\":\"x\",\"domain\":[0.0,1.0],\"title\":{\"text\":\"Time Taken\"}},\"legend\":{\"title\":{\"text\":\"variable\"},\"tracegroupgap\":0},\"margin\":{\"t\":60},\"title\":{\"text\":\"Time Taken Vs Model\"},\"showlegend\":true},                        {\"responsive\": true}                    ).then(function(){\n",
       "                            \n",
       "var gd = document.getElementById('9c4dbb20-e6c6-4461-8c10-33321cfdb312');\n",
       "var x = new MutationObserver(function (mutations, observer) {{\n",
       "        var display = window.getComputedStyle(gd).display;\n",
       "        if (!display || display === 'none') {{\n",
       "            console.log([gd, 'removed!']);\n",
       "            Plotly.purge(gd);\n",
       "            observer.disconnect();\n",
       "        }}\n",
       "}});\n",
       "\n",
       "// Listen for the removal of the full notebook cells\n",
       "var notebookContainer = gd.closest('#notebook-container');\n",
       "if (notebookContainer) {{\n",
       "    x.observe(notebookContainer, {childList: true});\n",
       "}}\n",
       "\n",
       "// Listen for the clearing of the current output cell\n",
       "var outputEl = gd.closest('.output');\n",
       "if (outputEl) {{\n",
       "    x.observe(outputEl, {childList: true});\n",
       "}}\n",
       "\n",
       "                        })                };                });            </script>        </div>"
      ]
     },
     "metadata": {},
     "output_type": "display_data"
    }
   ],
   "source": [
    "# Time Taken Vs Model:\n",
    "models.sort_values(by = 'Time Taken',inplace = True,ascending = False)\n",
    "line = px.line(data_frame= models ,y =[\"Time Taken\"] , markers = True)\n",
    "line.update_xaxes(title=\"Model\")\n",
    "line.update_yaxes(title = \"Time Taken\")\n",
    "line.update_traces(line_color=\"blue\")\n",
    "line.update_layout(showlegend = True,\n",
    "    title = {\n",
    "        'text': 'Time Taken Vs Model'})\n",
    "\n",
    "line.show()"
   ]
  },
  {
   "cell_type": "code",
   "execution_count": null,
   "id": "3faf40b9",
   "metadata": {},
   "outputs": [],
   "source": []
  }
 ],
 "metadata": {
  "kernelspec": {
   "display_name": "Python 3 (ipykernel)",
   "language": "python",
   "name": "python3"
  },
  "language_info": {
   "codemirror_mode": {
    "name": "ipython",
    "version": 3
   },
   "file_extension": ".py",
   "mimetype": "text/x-python",
   "name": "python",
   "nbconvert_exporter": "python",
   "pygments_lexer": "ipython3",
   "version": "3.11.5"
  }
 },
 "nbformat": 4,
 "nbformat_minor": 5
}
